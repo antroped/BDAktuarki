{
 "cells": [
  {
   "cell_type": "code",
   "execution_count": 2,
   "metadata": {
    "id": "VifzR-WVgBkS"
   },
   "outputs": [],
   "source": [
    "#!pip install openpyxl pyarrow"
   ]
  },
  {
   "cell_type": "code",
   "execution_count": 50,
   "metadata": {},
   "outputs": [],
   "source": [
    "import gc\n",
    "\n",
    "import pandas as pd\n",
    "import numpy as np\n",
    "import matplotlib.pyplot as plt\n",
    "import seaborn as sns\n",
    "import warnings\n",
    "warnings.filterwarnings(\"ignore\")"
   ]
  },
  {
   "cell_type": "markdown",
   "metadata": {
    "id": "djaUJD2agBkT"
   },
   "source": [
    "# 1. Первичный анализ данных"
   ]
  },
  {
   "cell_type": "markdown",
   "metadata": {
    "id": "KNscSbglgBkV"
   },
   "source": [
    "1.1 Проверить уникальность id в полисах и убытках \\\n",
    "1.2 Подтянуть рисковые факторы и характеристики от полисов к убыткам \\\n",
    "1.3 Провести агрегацию выплат до убытков \\\n",
    "1.4 Подтянуть количество и сумму убытков к каждому полису \\\n",
    "1.5 Притянуть к полисам и убыткам – количество водителей, возраст самого молодого, стаж водителя с самым маленьким стажем. \\\n",
    "1.6 Провести проверки данных. Это творческое задание. Примеры проверок – дата начала полиса больше даты окончания полиса,дата убытка между датой начала и окончания полиса и т.д. \\\n",
    "1.7 Построить распределения количества убытков и размера убытка – посмотреть средние, минимальные и максимальные значения, перцентили. \\\n",
    "1.8 Рассчитать экспозицию и заработанную премию для календарного анализа \\\n",
    "1.9 Отдельно для календарного и андеррайтингово подходов (для убытков|тяжесть и полисов|частота) посмотреть по каждому фактору: \\\n",
    "1.9.1 заполненность факторов, построить распределения значений фактора (для каждого фактора) в портфеле (по таблице с полисами) \\\n",
    "1.9.2 построить графики количества убытков/тяжести убытков в зависимости от значений фактора, для каждого уровня фактора оценить дисперсию количества и тяжести; \\\n",
    "1.9.3 проанализировать устойчивость одномерных распределений по годам (убытка, заключения полиса)\n"
   ]
  },
  {
   "cell_type": "code",
   "execution_count": 11,
   "metadata": {},
   "outputs": [],
   "source": [
    "df_claim = pd.read_excel('data/claim_reestr.xlsx')\n",
    "df_polis = pd.read_excel('data/polis_reestr.xlsx')\n",
    "df_drivers = pd.read_excel('data/drivers_reestr.xlsx')\n",
    "df_kladr = pd.read_excel('data/kladr_ref.xlsx')"
   ]
  },
  {
   "cell_type": "code",
   "execution_count": 4,
   "metadata": {},
   "outputs": [
    {
     "data": {
      "text/html": [
       "<div>\n",
       "<style scoped>\n",
       "    .dataframe tbody tr th:only-of-type {\n",
       "        vertical-align: middle;\n",
       "    }\n",
       "\n",
       "    .dataframe tbody tr th {\n",
       "        vertical-align: top;\n",
       "    }\n",
       "\n",
       "    .dataframe thead th {\n",
       "        text-align: right;\n",
       "    }\n",
       "</style>\n",
       "<table border=\"1\" class=\"dataframe\">\n",
       "  <thead>\n",
       "    <tr style=\"text-align: right;\">\n",
       "      <th></th>\n",
       "      <th>POLIS_ID</th>\n",
       "      <th>LOSS_ID</th>\n",
       "      <th>DTP_DT</th>\n",
       "      <th>CLAIM_DT</th>\n",
       "      <th>PAY_ID</th>\n",
       "      <th>PAY_AMT</th>\n",
       "      <th>PAY_DT</th>\n",
       "      <th>DAMAGE_TYPE</th>\n",
       "      <th>IS_ALCHO_DMG</th>\n",
       "      <th>IS_DISAPPEAR</th>\n",
       "      <th>EURO_PROTOCOL</th>\n",
       "    </tr>\n",
       "  </thead>\n",
       "  <tbody>\n",
       "    <tr>\n",
       "      <th>2457</th>\n",
       "      <td>22570</td>\n",
       "      <td>600</td>\n",
       "      <td>13.08.2018</td>\n",
       "      <td>15.08.2018</td>\n",
       "      <td>730</td>\n",
       "      <td>25099.21</td>\n",
       "      <td>02.10.2018</td>\n",
       "      <td>1</td>\n",
       "      <td>0</td>\n",
       "      <td>0</td>\n",
       "      <td>0</td>\n",
       "    </tr>\n",
       "    <tr>\n",
       "      <th>2310</th>\n",
       "      <td>83788</td>\n",
       "      <td>2381</td>\n",
       "      <td>12.10.2019</td>\n",
       "      <td>15.10.2019</td>\n",
       "      <td>2849</td>\n",
       "      <td>81878.55</td>\n",
       "      <td>16.01.2020</td>\n",
       "      <td>1</td>\n",
       "      <td>0</td>\n",
       "      <td>0</td>\n",
       "      <td>0</td>\n",
       "    </tr>\n",
       "    <tr>\n",
       "      <th>4194</th>\n",
       "      <td>5452</td>\n",
       "      <td>830</td>\n",
       "      <td>21.09.2018</td>\n",
       "      <td>04.10.2018</td>\n",
       "      <td>1007</td>\n",
       "      <td>143717.39</td>\n",
       "      <td>30.10.2018</td>\n",
       "      <td>1</td>\n",
       "      <td>0</td>\n",
       "      <td>0</td>\n",
       "      <td>0</td>\n",
       "    </tr>\n",
       "    <tr>\n",
       "      <th>5023</th>\n",
       "      <td>81003</td>\n",
       "      <td>1254</td>\n",
       "      <td>25.11.2019</td>\n",
       "      <td>27.11.2019</td>\n",
       "      <td>1530</td>\n",
       "      <td>37182.43</td>\n",
       "      <td>18.02.2020</td>\n",
       "      <td>1</td>\n",
       "      <td>0</td>\n",
       "      <td>0</td>\n",
       "      <td>1</td>\n",
       "    </tr>\n",
       "    <tr>\n",
       "      <th>2107</th>\n",
       "      <td>86443</td>\n",
       "      <td>3254</td>\n",
       "      <td>11.10.2018</td>\n",
       "      <td>18.10.2018</td>\n",
       "      <td>3918</td>\n",
       "      <td>31653.04</td>\n",
       "      <td>20.11.2018</td>\n",
       "      <td>1</td>\n",
       "      <td>0</td>\n",
       "      <td>0</td>\n",
       "      <td>1</td>\n",
       "    </tr>\n",
       "  </tbody>\n",
       "</table>\n",
       "</div>"
      ],
      "text/plain": [
       "      POLIS_ID  LOSS_ID      DTP_DT    CLAIM_DT  PAY_ID    PAY_AMT  \\\n",
       "2457     22570      600  13.08.2018  15.08.2018     730   25099.21   \n",
       "2310     83788     2381  12.10.2019  15.10.2019    2849   81878.55   \n",
       "4194      5452      830  21.09.2018  04.10.2018    1007  143717.39   \n",
       "5023     81003     1254  25.11.2019  27.11.2019    1530   37182.43   \n",
       "2107     86443     3254  11.10.2018  18.10.2018    3918   31653.04   \n",
       "\n",
       "          PAY_DT  DAMAGE_TYPE  IS_ALCHO_DMG  IS_DISAPPEAR  EURO_PROTOCOL  \n",
       "2457  02.10.2018            1             0             0              0  \n",
       "2310  16.01.2020            1             0             0              0  \n",
       "4194  30.10.2018            1             0             0              0  \n",
       "5023  18.02.2020            1             0             0              1  \n",
       "2107  20.11.2018            1             0             0              1  "
      ]
     },
     "execution_count": 4,
     "metadata": {},
     "output_type": "execute_result"
    }
   ],
   "source": [
    "df_claim.sample(5)"
   ]
  },
  {
   "cell_type": "code",
   "execution_count": 5,
   "metadata": {},
   "outputs": [
    {
     "data": {
      "text/html": [
       "<div>\n",
       "<style scoped>\n",
       "    .dataframe tbody tr th:only-of-type {\n",
       "        vertical-align: middle;\n",
       "    }\n",
       "\n",
       "    .dataframe tbody tr th {\n",
       "        vertical-align: top;\n",
       "    }\n",
       "\n",
       "    .dataframe thead th {\n",
       "        text-align: right;\n",
       "    }\n",
       "</style>\n",
       "<table border=\"1\" class=\"dataframe\">\n",
       "  <thead>\n",
       "    <tr style=\"text-align: right;\">\n",
       "      <th></th>\n",
       "      <th>CREATE_DT</th>\n",
       "      <th>POLIS_ID</th>\n",
       "      <th>START_DT</th>\n",
       "      <th>END_DT</th>\n",
       "      <th>PREMIUM</th>\n",
       "      <th>DISSOLUTION_DT</th>\n",
       "      <th>VIN</th>\n",
       "      <th>CAR_ISSUE</th>\n",
       "      <th>CAR_DIAG_DT</th>\n",
       "      <th>PERS_POLIS_OWN</th>\n",
       "      <th>...</th>\n",
       "      <th>CAR_SEATS_CNT</th>\n",
       "      <th>USE_PURPOSE_FLG</th>\n",
       "      <th>REG_COUNTRY_FLG</th>\n",
       "      <th>START1</th>\n",
       "      <th>END1</th>\n",
       "      <th>START2</th>\n",
       "      <th>END2</th>\n",
       "      <th>START3</th>\n",
       "      <th>END3</th>\n",
       "      <th>hash_vin</th>\n",
       "    </tr>\n",
       "  </thead>\n",
       "  <tbody>\n",
       "    <tr>\n",
       "      <th>12491</th>\n",
       "      <td>2018-04-04 00:00:00</td>\n",
       "      <td>12492</td>\n",
       "      <td>2018-04-05 00:00:00</td>\n",
       "      <td>2019-04-04 00:00:00</td>\n",
       "      <td>5188.68</td>\n",
       "      <td>NaN</td>\n",
       "      <td>899ea0798290d7f24029a7fd8630ce2327e7d40cbcc6f2...</td>\n",
       "      <td>2005.0</td>\n",
       "      <td>2019-03-15 00:00:00</td>\n",
       "      <td>FF824828028C56B273A04975A1425B681C6B93EB925CDD...</td>\n",
       "      <td>...</td>\n",
       "      <td>NaN</td>\n",
       "      <td>1</td>\n",
       "      <td>1</td>\n",
       "      <td>2018-04-05 00:00:00</td>\n",
       "      <td>2019-04-04 00:00:00</td>\n",
       "      <td>NaN</td>\n",
       "      <td>NaN</td>\n",
       "      <td>NaN</td>\n",
       "      <td>NaN</td>\n",
       "      <td>899ea0798290d7f24029a7fd8630ce2327e7d40cbcc6f2...</td>\n",
       "    </tr>\n",
       "    <tr>\n",
       "      <th>86741</th>\n",
       "      <td>2019-08-30 00:00:00</td>\n",
       "      <td>86742</td>\n",
       "      <td>2019-09-04 00:00:00</td>\n",
       "      <td>2020-09-03 00:00:00</td>\n",
       "      <td>6325.25</td>\n",
       "      <td>NaN</td>\n",
       "      <td>dd06cdba2cefe30aeb865b37173bee08bb592a8bfc292d...</td>\n",
       "      <td>2014.0</td>\n",
       "      <td>2019-08-30 00:00:00</td>\n",
       "      <td>FE8752A1088570F21989305BB1DD16317FB2883C16AD10...</td>\n",
       "      <td>...</td>\n",
       "      <td>NaN</td>\n",
       "      <td>1</td>\n",
       "      <td>1</td>\n",
       "      <td>2019-09-04 00:00:00</td>\n",
       "      <td>2020-09-03 00:00:00</td>\n",
       "      <td>NaN</td>\n",
       "      <td>NaN</td>\n",
       "      <td>NaN</td>\n",
       "      <td>NaN</td>\n",
       "      <td>dd06cdba2cefe30aeb865b37173bee08bb592a8bfc292d...</td>\n",
       "    </tr>\n",
       "    <tr>\n",
       "      <th>87964</th>\n",
       "      <td>2019-11-02 00:00:00</td>\n",
       "      <td>87965</td>\n",
       "      <td>2019-11-06 00:00:00</td>\n",
       "      <td>2020-11-05 00:00:00</td>\n",
       "      <td>4234.39</td>\n",
       "      <td>NaN</td>\n",
       "      <td>ca07165b939489847a11d9bd6065d9687b79eabbc20c00...</td>\n",
       "      <td>2013.0</td>\n",
       "      <td>NaN</td>\n",
       "      <td>E9C15EA71911DCE7CA5B82C922B665BB9440BECE96B010...</td>\n",
       "      <td>...</td>\n",
       "      <td>NaN</td>\n",
       "      <td>1</td>\n",
       "      <td>1</td>\n",
       "      <td>2019-11-06 00:00:00</td>\n",
       "      <td>2020-11-05 00:00:00</td>\n",
       "      <td>NaN</td>\n",
       "      <td>NaN</td>\n",
       "      <td>NaN</td>\n",
       "      <td>NaN</td>\n",
       "      <td>ca07165b939489847a11d9bd6065d9687b79eabbc20c00...</td>\n",
       "    </tr>\n",
       "    <tr>\n",
       "      <th>46284</th>\n",
       "      <td>2019-07-05 00:00:00</td>\n",
       "      <td>46285</td>\n",
       "      <td>2019-07-09 00:00:00</td>\n",
       "      <td>2020-07-08 00:00:00</td>\n",
       "      <td>3763.52</td>\n",
       "      <td>NaN</td>\n",
       "      <td>b483ee211ae39d738e0a83e947e640ffeeb6f5450b7095...</td>\n",
       "      <td>2011.0</td>\n",
       "      <td>NaN</td>\n",
       "      <td>142EB2610820746D4CFE3F4193F56920667B01997A4D5B...</td>\n",
       "      <td>...</td>\n",
       "      <td>0.0</td>\n",
       "      <td>1</td>\n",
       "      <td>1</td>\n",
       "      <td>2019-07-09 00:00:00</td>\n",
       "      <td>2020-07-08 00:00:00</td>\n",
       "      <td>NaN</td>\n",
       "      <td>NaN</td>\n",
       "      <td>NaN</td>\n",
       "      <td>NaN</td>\n",
       "      <td>b483ee211ae39d738e0a83e947e640ffeeb6f5450b7095...</td>\n",
       "    </tr>\n",
       "    <tr>\n",
       "      <th>84146</th>\n",
       "      <td>2018-07-06 00:00:00</td>\n",
       "      <td>84147</td>\n",
       "      <td>2018-07-07 00:00:00</td>\n",
       "      <td>2019-07-06 00:00:00</td>\n",
       "      <td>4871.59</td>\n",
       "      <td>NaN</td>\n",
       "      <td>4b07af5778a9b8d3c19536c7e22d66ac93b97bef44ddd7...</td>\n",
       "      <td>2011.0</td>\n",
       "      <td>2019-06-19 00:00:00</td>\n",
       "      <td>DCEBF9E7D2B30664339827B487A58BE47726B97E50F9A9...</td>\n",
       "      <td>...</td>\n",
       "      <td>NaN</td>\n",
       "      <td>1</td>\n",
       "      <td>1</td>\n",
       "      <td>2018-07-07 00:00:00</td>\n",
       "      <td>2019-07-06 00:00:00</td>\n",
       "      <td>NaN</td>\n",
       "      <td>NaN</td>\n",
       "      <td>NaN</td>\n",
       "      <td>NaN</td>\n",
       "      <td>4b07af5778a9b8d3c19536c7e22d66ac93b97bef44ddd7...</td>\n",
       "    </tr>\n",
       "  </tbody>\n",
       "</table>\n",
       "<p>5 rows × 27 columns</p>\n",
       "</div>"
      ],
      "text/plain": [
       "                 CREATE_DT  POLIS_ID             START_DT  \\\n",
       "12491  2018-04-04 00:00:00     12492  2018-04-05 00:00:00   \n",
       "86741  2019-08-30 00:00:00     86742  2019-09-04 00:00:00   \n",
       "87964  2019-11-02 00:00:00     87965  2019-11-06 00:00:00   \n",
       "46284  2019-07-05 00:00:00     46285  2019-07-09 00:00:00   \n",
       "84146  2018-07-06 00:00:00     84147  2018-07-07 00:00:00   \n",
       "\n",
       "                    END_DT  PREMIUM  DISSOLUTION_DT  \\\n",
       "12491  2019-04-04 00:00:00  5188.68             NaN   \n",
       "86741  2020-09-03 00:00:00  6325.25             NaN   \n",
       "87964  2020-11-05 00:00:00  4234.39             NaN   \n",
       "46284  2020-07-08 00:00:00  3763.52             NaN   \n",
       "84146  2019-07-06 00:00:00  4871.59             NaN   \n",
       "\n",
       "                                                     VIN  CAR_ISSUE  \\\n",
       "12491  899ea0798290d7f24029a7fd8630ce2327e7d40cbcc6f2...     2005.0   \n",
       "86741  dd06cdba2cefe30aeb865b37173bee08bb592a8bfc292d...     2014.0   \n",
       "87964  ca07165b939489847a11d9bd6065d9687b79eabbc20c00...     2013.0   \n",
       "46284  b483ee211ae39d738e0a83e947e640ffeeb6f5450b7095...     2011.0   \n",
       "84146  4b07af5778a9b8d3c19536c7e22d66ac93b97bef44ddd7...     2011.0   \n",
       "\n",
       "               CAR_DIAG_DT                                     PERS_POLIS_OWN  \\\n",
       "12491  2019-03-15 00:00:00  FF824828028C56B273A04975A1425B681C6B93EB925CDD...   \n",
       "86741  2019-08-30 00:00:00  FE8752A1088570F21989305BB1DD16317FB2883C16AD10...   \n",
       "87964                  NaN  E9C15EA71911DCE7CA5B82C922B665BB9440BECE96B010...   \n",
       "46284                  NaN  142EB2610820746D4CFE3F4193F56920667B01997A4D5B...   \n",
       "84146  2019-06-19 00:00:00  DCEBF9E7D2B30664339827B487A58BE47726B97E50F9A9...   \n",
       "\n",
       "       ... CAR_SEATS_CNT  USE_PURPOSE_FLG  REG_COUNTRY_FLG  \\\n",
       "12491  ...           NaN                1                1   \n",
       "86741  ...           NaN                1                1   \n",
       "87964  ...           NaN                1                1   \n",
       "46284  ...           0.0                1                1   \n",
       "84146  ...           NaN                1                1   \n",
       "\n",
       "                    START1                 END1  START2  END2  START3  END3  \\\n",
       "12491  2018-04-05 00:00:00  2019-04-04 00:00:00     NaN   NaN     NaN   NaN   \n",
       "86741  2019-09-04 00:00:00  2020-09-03 00:00:00     NaN   NaN     NaN   NaN   \n",
       "87964  2019-11-06 00:00:00  2020-11-05 00:00:00     NaN   NaN     NaN   NaN   \n",
       "46284  2019-07-09 00:00:00  2020-07-08 00:00:00     NaN   NaN     NaN   NaN   \n",
       "84146  2018-07-07 00:00:00  2019-07-06 00:00:00     NaN   NaN     NaN   NaN   \n",
       "\n",
       "                                                hash_vin  \n",
       "12491  899ea0798290d7f24029a7fd8630ce2327e7d40cbcc6f2...  \n",
       "86741  dd06cdba2cefe30aeb865b37173bee08bb592a8bfc292d...  \n",
       "87964  ca07165b939489847a11d9bd6065d9687b79eabbc20c00...  \n",
       "46284  b483ee211ae39d738e0a83e947e640ffeeb6f5450b7095...  \n",
       "84146  4b07af5778a9b8d3c19536c7e22d66ac93b97bef44ddd7...  \n",
       "\n",
       "[5 rows x 27 columns]"
      ]
     },
     "execution_count": 5,
     "metadata": {},
     "output_type": "execute_result"
    }
   ],
   "source": [
    "df_polis.sample(5)"
   ]
  },
  {
   "cell_type": "code",
   "execution_count": 6,
   "metadata": {},
   "outputs": [
    {
     "data": {
      "text/html": [
       "<div>\n",
       "<style scoped>\n",
       "    .dataframe tbody tr th:only-of-type {\n",
       "        vertical-align: middle;\n",
       "    }\n",
       "\n",
       "    .dataframe tbody tr th {\n",
       "        vertical-align: top;\n",
       "    }\n",
       "\n",
       "    .dataframe thead th {\n",
       "        text-align: right;\n",
       "    }\n",
       "</style>\n",
       "<table border=\"1\" class=\"dataframe\">\n",
       "  <thead>\n",
       "    <tr style=\"text-align: right;\">\n",
       "      <th></th>\n",
       "      <th>POLIS_ID</th>\n",
       "      <th>DRIVER_HASH</th>\n",
       "      <th>DRIVER_AGE</th>\n",
       "      <th>DRIVER_EXP</th>\n",
       "      <th>BONUS_MALUS</th>\n",
       "    </tr>\n",
       "  </thead>\n",
       "  <tbody>\n",
       "    <tr>\n",
       "      <th>83995</th>\n",
       "      <td>51919</td>\n",
       "      <td>A05D8AE9FCBE443630186BD86E246E1F3E354943A31055...</td>\n",
       "      <td>53</td>\n",
       "      <td>34.0</td>\n",
       "      <td>0.70</td>\n",
       "    </tr>\n",
       "    <tr>\n",
       "      <th>44245</th>\n",
       "      <td>27384</td>\n",
       "      <td>21C57DFC837B50EF1FFE17EACE92D5B5E612660AEEAC06...</td>\n",
       "      <td>39</td>\n",
       "      <td>10.0</td>\n",
       "      <td>0.50</td>\n",
       "    </tr>\n",
       "    <tr>\n",
       "      <th>80431</th>\n",
       "      <td>49698</td>\n",
       "      <td>51B0382C4AB21C711DA5AC2DC140A74DD079B83B802E56...</td>\n",
       "      <td>34</td>\n",
       "      <td>14.0</td>\n",
       "      <td>0.65</td>\n",
       "    </tr>\n",
       "    <tr>\n",
       "      <th>87945</th>\n",
       "      <td>54392</td>\n",
       "      <td>35EF6DE27234157008AD53630BFB11766DB443994E3E97...</td>\n",
       "      <td>49</td>\n",
       "      <td>26.0</td>\n",
       "      <td>0.55</td>\n",
       "    </tr>\n",
       "    <tr>\n",
       "      <th>17347</th>\n",
       "      <td>10654</td>\n",
       "      <td>C31DC3F3C4FAB8CF9A13B09338246581731D539CD0E9FB...</td>\n",
       "      <td>47</td>\n",
       "      <td>17.0</td>\n",
       "      <td>0.70</td>\n",
       "    </tr>\n",
       "  </tbody>\n",
       "</table>\n",
       "</div>"
      ],
      "text/plain": [
       "       POLIS_ID                                        DRIVER_HASH  \\\n",
       "83995     51919  A05D8AE9FCBE443630186BD86E246E1F3E354943A31055...   \n",
       "44245     27384  21C57DFC837B50EF1FFE17EACE92D5B5E612660AEEAC06...   \n",
       "80431     49698  51B0382C4AB21C711DA5AC2DC140A74DD079B83B802E56...   \n",
       "87945     54392  35EF6DE27234157008AD53630BFB11766DB443994E3E97...   \n",
       "17347     10654  C31DC3F3C4FAB8CF9A13B09338246581731D539CD0E9FB...   \n",
       "\n",
       "       DRIVER_AGE  DRIVER_EXP  BONUS_MALUS  \n",
       "83995          53        34.0         0.70  \n",
       "44245          39        10.0         0.50  \n",
       "80431          34        14.0         0.65  \n",
       "87945          49        26.0         0.55  \n",
       "17347          47        17.0         0.70  "
      ]
     },
     "execution_count": 6,
     "metadata": {},
     "output_type": "execute_result"
    }
   ],
   "source": [
    "df_drivers.sample(5)"
   ]
  },
  {
   "cell_type": "code",
   "execution_count": 7,
   "metadata": {},
   "outputs": [
    {
     "data": {
      "text/html": [
       "<div>\n",
       "<style scoped>\n",
       "    .dataframe tbody tr th:only-of-type {\n",
       "        vertical-align: middle;\n",
       "    }\n",
       "\n",
       "    .dataframe tbody tr th {\n",
       "        vertical-align: top;\n",
       "    }\n",
       "\n",
       "    .dataframe thead th {\n",
       "        text-align: right;\n",
       "    }\n",
       "</style>\n",
       "<table border=\"1\" class=\"dataframe\">\n",
       "  <thead>\n",
       "    <tr style=\"text-align: right;\">\n",
       "      <th></th>\n",
       "      <th>kladr_code</th>\n",
       "      <th>tpi</th>\n",
       "      <th>fo</th>\n",
       "      <th>fo_tpi</th>\n",
       "    </tr>\n",
       "  </thead>\n",
       "  <tbody>\n",
       "    <tr>\n",
       "      <th>1022</th>\n",
       "      <td>24017000</td>\n",
       "      <td>Красноярский край - Прочие</td>\n",
       "      <td>Сибирский ФО</td>\n",
       "      <td>Сибирский ФО: Красноярский край - Прочие</td>\n",
       "    </tr>\n",
       "    <tr>\n",
       "      <th>2781</th>\n",
       "      <td>68008000</td>\n",
       "      <td>Тамбовская область - Прочие</td>\n",
       "      <td>Центральный ФО</td>\n",
       "      <td>Центральный ФО: Тамбовская область - Прочие</td>\n",
       "    </tr>\n",
       "    <tr>\n",
       "      <th>468</th>\n",
       "      <td>4000001</td>\n",
       "      <td>Горно-Алтайск</td>\n",
       "      <td>Сибирский ФО</td>\n",
       "      <td>Сибирский ФО: Горно-Алтайск</td>\n",
       "    </tr>\n",
       "    <tr>\n",
       "      <th>405</th>\n",
       "      <td>35017000</td>\n",
       "      <td>Вологодская область - Прочие</td>\n",
       "      <td>Северо-Западный ФО</td>\n",
       "      <td>Северо-Западный ФО: Вологодская область - Прочие</td>\n",
       "    </tr>\n",
       "    <tr>\n",
       "      <th>1381</th>\n",
       "      <td>50000023</td>\n",
       "      <td>Московская область</td>\n",
       "      <td>Центральный ФО</td>\n",
       "      <td>Центральный ФО: Московская область</td>\n",
       "    </tr>\n",
       "  </tbody>\n",
       "</table>\n",
       "</div>"
      ],
      "text/plain": [
       "      kladr_code                           tpi                  fo  \\\n",
       "1022    24017000    Красноярский край - Прочие        Сибирский ФО   \n",
       "2781    68008000   Тамбовская область - Прочие      Центральный ФО   \n",
       "468      4000001                 Горно-Алтайск        Сибирский ФО   \n",
       "405     35017000  Вологодская область - Прочие  Северо-Западный ФО   \n",
       "1381    50000023            Московская область      Центральный ФО   \n",
       "\n",
       "                                                fo_tpi  \n",
       "1022          Сибирский ФО: Красноярский край - Прочие  \n",
       "2781       Центральный ФО: Тамбовская область - Прочие  \n",
       "468                        Сибирский ФО: Горно-Алтайск  \n",
       "405   Северо-Западный ФО: Вологодская область - Прочие  \n",
       "1381                Центральный ФО: Московская область  "
      ]
     },
     "execution_count": 7,
     "metadata": {},
     "output_type": "execute_result"
    }
   ],
   "source": [
    "df_kladr.sample(5)"
   ]
  },
  {
   "cell_type": "markdown",
   "metadata": {
    "id": "B5NYT0tigBkV"
   },
   "source": [
    "### 1.1 Проверить уникальность id в полисах и убытках"
   ]
  },
  {
   "cell_type": "code",
   "execution_count": 9,
   "metadata": {
    "colab": {
     "base_uri": "https://localhost:8080/"
    },
    "id": "r45GPkbtgBkW",
    "outputId": "9014c951-593d-4cd0-9a6a-864252d982c3"
   },
   "outputs": [
    {
     "name": "stdout",
     "output_type": "stream",
     "text": [
      "Процент уникальных id полисов в реестре выплат: 76.55517854257555\n",
      "Процент уникальных id полисов в реестре полисов: 100.0\n",
      "Процент уникальных id полисов в реестре водителей: 58.260494340397095\n",
      "Процент уникальных id убытков: 100.0\n"
     ]
    }
   ],
   "source": [
    "print(f'Процент уникальных id полисов в реестре выплат: {df_claim[\"POLIS_ID\"].nunique() / len(df_claim) * 100}')\n",
    "print(f'Процент уникальных id полисов в реестре полисов: {df_polis[\"POLIS_ID\"].nunique() / len(df_polis) * 100}')\n",
    "print(f'Процент уникальных id полисов в реестре водителей: {df_drivers[\"POLIS_ID\"].nunique() / len(df_drivers) * 100}')\n",
    "print(f'Процент уникальных id убытков: {df_claim[\"PAY_ID\"].nunique() / len(df_claim) * 100}')"
   ]
  },
  {
   "cell_type": "markdown",
   "metadata": {
    "id": "B5NYT0tigBkV"
   },
   "source": [
    "### 1.2 Подтянуть рисковые факторы и характеристики от полисов к убыткам"
   ]
  },
  {
   "cell_type": "code",
   "execution_count": 12,
   "metadata": {},
   "outputs": [
    {
     "data": {
      "text/html": [
       "<div>\n",
       "<style scoped>\n",
       "    .dataframe tbody tr th:only-of-type {\n",
       "        vertical-align: middle;\n",
       "    }\n",
       "\n",
       "    .dataframe tbody tr th {\n",
       "        vertical-align: top;\n",
       "    }\n",
       "\n",
       "    .dataframe thead th {\n",
       "        text-align: right;\n",
       "    }\n",
       "</style>\n",
       "<table border=\"1\" class=\"dataframe\">\n",
       "  <thead>\n",
       "    <tr style=\"text-align: right;\">\n",
       "      <th></th>\n",
       "      <th>POLIS_ID</th>\n",
       "      <th>LOSS_ID</th>\n",
       "      <th>DTP_DT</th>\n",
       "      <th>CLAIM_DT</th>\n",
       "      <th>PAY_ID</th>\n",
       "      <th>PAY_AMT</th>\n",
       "      <th>PAY_DT</th>\n",
       "      <th>DAMAGE_TYPE</th>\n",
       "      <th>IS_ALCHO_DMG</th>\n",
       "      <th>IS_DISAPPEAR</th>\n",
       "      <th>...</th>\n",
       "      <th>CAR_SEATS_CNT</th>\n",
       "      <th>USE_PURPOSE_FLG</th>\n",
       "      <th>REG_COUNTRY_FLG</th>\n",
       "      <th>START1</th>\n",
       "      <th>END1</th>\n",
       "      <th>START2</th>\n",
       "      <th>END2</th>\n",
       "      <th>START3</th>\n",
       "      <th>END3</th>\n",
       "      <th>hash_vin</th>\n",
       "    </tr>\n",
       "  </thead>\n",
       "  <tbody>\n",
       "    <tr>\n",
       "      <th>5341</th>\n",
       "      <td>115071</td>\n",
       "      <td>1289</td>\n",
       "      <td>27.08.2019</td>\n",
       "      <td>27.08.2019</td>\n",
       "      <td>1571</td>\n",
       "      <td>27079.84</td>\n",
       "      <td>13.09.2019</td>\n",
       "      <td>1</td>\n",
       "      <td>0</td>\n",
       "      <td>0</td>\n",
       "      <td>...</td>\n",
       "      <td>NaN</td>\n",
       "      <td>1</td>\n",
       "      <td>1</td>\n",
       "      <td>2018-10-20 00:00:00</td>\n",
       "      <td>2019-10-19 00:00:00</td>\n",
       "      <td>NaN</td>\n",
       "      <td>NaN</td>\n",
       "      <td>NaN</td>\n",
       "      <td>NaN</td>\n",
       "      <td>0c9bcf4f48c9de961b52930c7c9bfa45429480374a4c5d...</td>\n",
       "    </tr>\n",
       "    <tr>\n",
       "      <th>709</th>\n",
       "      <td>100143</td>\n",
       "      <td>1513</td>\n",
       "      <td>04.09.2018</td>\n",
       "      <td>10.09.2018</td>\n",
       "      <td>1829</td>\n",
       "      <td>57938.01</td>\n",
       "      <td>15.11.2018</td>\n",
       "      <td>1</td>\n",
       "      <td>0</td>\n",
       "      <td>0</td>\n",
       "      <td>...</td>\n",
       "      <td>NaN</td>\n",
       "      <td>1</td>\n",
       "      <td>1</td>\n",
       "      <td>2018-07-14 00:00:00</td>\n",
       "      <td>2019-07-13 00:00:00</td>\n",
       "      <td>NaN</td>\n",
       "      <td>NaN</td>\n",
       "      <td>NaN</td>\n",
       "      <td>NaN</td>\n",
       "      <td>6c5fb697f85fc7aee20db92f2c908a862520976341f8fb...</td>\n",
       "    </tr>\n",
       "    <tr>\n",
       "      <th>5759</th>\n",
       "      <td>105849</td>\n",
       "      <td>1747</td>\n",
       "      <td>29.07.2019</td>\n",
       "      <td>05.08.2019</td>\n",
       "      <td>2103</td>\n",
       "      <td>26960.77</td>\n",
       "      <td>22.08.2019</td>\n",
       "      <td>1</td>\n",
       "      <td>0</td>\n",
       "      <td>0</td>\n",
       "      <td>...</td>\n",
       "      <td>NaN</td>\n",
       "      <td>5</td>\n",
       "      <td>1</td>\n",
       "      <td>2018-07-31 00:00:00</td>\n",
       "      <td>2019-07-30 00:00:00</td>\n",
       "      <td>NaN</td>\n",
       "      <td>NaN</td>\n",
       "      <td>NaN</td>\n",
       "      <td>NaN</td>\n",
       "      <td>7878cd5d271b4f1abd9e1a22dca574c56c3d4b59e513a3...</td>\n",
       "    </tr>\n",
       "    <tr>\n",
       "      <th>5900</th>\n",
       "      <td>62693</td>\n",
       "      <td>5060</td>\n",
       "      <td>30.03.2018</td>\n",
       "      <td>17.06.2019</td>\n",
       "      <td>6054</td>\n",
       "      <td>182938.42</td>\n",
       "      <td>17.07.2019</td>\n",
       "      <td>2</td>\n",
       "      <td>0</td>\n",
       "      <td>0</td>\n",
       "      <td>...</td>\n",
       "      <td>NaN</td>\n",
       "      <td>1</td>\n",
       "      <td>1</td>\n",
       "      <td>2018-01-11 00:00:00</td>\n",
       "      <td>2019-01-10 00:00:00</td>\n",
       "      <td>NaN</td>\n",
       "      <td>NaN</td>\n",
       "      <td>NaN</td>\n",
       "      <td>NaN</td>\n",
       "      <td>NaN</td>\n",
       "    </tr>\n",
       "    <tr>\n",
       "      <th>4294</th>\n",
       "      <td>76642</td>\n",
       "      <td>3935</td>\n",
       "      <td>22.02.2019</td>\n",
       "      <td>27.02.2019</td>\n",
       "      <td>4718</td>\n",
       "      <td>82159.98</td>\n",
       "      <td>14.03.2019</td>\n",
       "      <td>1</td>\n",
       "      <td>0</td>\n",
       "      <td>0</td>\n",
       "      <td>...</td>\n",
       "      <td>NaN</td>\n",
       "      <td>1</td>\n",
       "      <td>1</td>\n",
       "      <td>2018-12-18 00:00:00</td>\n",
       "      <td>2019-12-17 00:00:00</td>\n",
       "      <td>NaN</td>\n",
       "      <td>NaN</td>\n",
       "      <td>NaN</td>\n",
       "      <td>NaN</td>\n",
       "      <td>NaN</td>\n",
       "    </tr>\n",
       "  </tbody>\n",
       "</table>\n",
       "<p>5 rows × 37 columns</p>\n",
       "</div>"
      ],
      "text/plain": [
       "      POLIS_ID  LOSS_ID      DTP_DT    CLAIM_DT  PAY_ID    PAY_AMT  \\\n",
       "5341    115071     1289  27.08.2019  27.08.2019    1571   27079.84   \n",
       "709     100143     1513  04.09.2018  10.09.2018    1829   57938.01   \n",
       "5759    105849     1747  29.07.2019  05.08.2019    2103   26960.77   \n",
       "5900     62693     5060  30.03.2018  17.06.2019    6054  182938.42   \n",
       "4294     76642     3935  22.02.2019  27.02.2019    4718   82159.98   \n",
       "\n",
       "          PAY_DT  DAMAGE_TYPE  IS_ALCHO_DMG  IS_DISAPPEAR  ...  CAR_SEATS_CNT  \\\n",
       "5341  13.09.2019            1             0             0  ...            NaN   \n",
       "709   15.11.2018            1             0             0  ...            NaN   \n",
       "5759  22.08.2019            1             0             0  ...            NaN   \n",
       "5900  17.07.2019            2             0             0  ...            NaN   \n",
       "4294  14.03.2019            1             0             0  ...            NaN   \n",
       "\n",
       "     USE_PURPOSE_FLG REG_COUNTRY_FLG               START1  \\\n",
       "5341               1               1  2018-10-20 00:00:00   \n",
       "709                1               1  2018-07-14 00:00:00   \n",
       "5759               5               1  2018-07-31 00:00:00   \n",
       "5900               1               1  2018-01-11 00:00:00   \n",
       "4294               1               1  2018-12-18 00:00:00   \n",
       "\n",
       "                     END1  START2 END2  START3 END3  \\\n",
       "5341  2019-10-19 00:00:00     NaN  NaN     NaN  NaN   \n",
       "709   2019-07-13 00:00:00     NaN  NaN     NaN  NaN   \n",
       "5759  2019-07-30 00:00:00     NaN  NaN     NaN  NaN   \n",
       "5900  2019-01-10 00:00:00     NaN  NaN     NaN  NaN   \n",
       "4294  2019-12-17 00:00:00     NaN  NaN     NaN  NaN   \n",
       "\n",
       "                                               hash_vin  \n",
       "5341  0c9bcf4f48c9de961b52930c7c9bfa45429480374a4c5d...  \n",
       "709   6c5fb697f85fc7aee20db92f2c908a862520976341f8fb...  \n",
       "5759  7878cd5d271b4f1abd9e1a22dca574c56c3d4b59e513a3...  \n",
       "5900                                                NaN  \n",
       "4294                                                NaN  \n",
       "\n",
       "[5 rows x 37 columns]"
      ]
     },
     "execution_count": 12,
     "metadata": {},
     "output_type": "execute_result"
    }
   ],
   "source": [
    "df_claim_with_polis = pd.merge(df_claim, df_polis, on='POLIS_ID', how='left')\n",
    "\n",
    "df_claim_with_polis.sample(5)"
   ]
  },
  {
   "cell_type": "markdown",
   "metadata": {},
   "source": [
    "В объединенном датафрейме получилось 37 столбцов. Мы объединили данные так, чтобы ни для какого убытка не был потерян полис, с которым этот убыток связан. То есть в объединенном датафрейме все убытки уникальные, а полисы могут повторяться."
   ]
  },
  {
   "cell_type": "markdown",
   "metadata": {
    "id": "B5NYT0tigBkV"
   },
   "source": [
    "### 1.3 Провести агрегацию выплат до убытков (??)"
   ]
  },
  {
   "cell_type": "markdown",
   "metadata": {},
   "source": [
    "**Дата убытка - это CLAIM_DT или DTP_DT??**"
   ]
  },
  {
   "cell_type": "code",
   "execution_count": 13,
   "metadata": {},
   "outputs": [
    {
     "name": "stdout",
     "output_type": "stream",
     "text": [
      "Количество выплат до убытков: 44\n"
     ]
    }
   ],
   "source": [
    "# df_claim_with_polis['DTP_DT'] = pd.to_datetime(df_claim_with_polis['DTP_DT'], dayfirst=True)\n",
    "# df_claim_with_polis['PAY_DT'] = pd.to_datetime(df_claim_with_polis['PAY_DT'], dayfirst=True)\n",
    "# df_claim_with_polis['PAY_BEFORE_LOSS'] = df_claim_with_polis['PAY_DT'] < df_claim_with_polis['DTP_DT']\n",
    "# print(f\"Количество выплат до убытков: {df_claim_with_polis['PAY_BEFORE_LOSS'].sum()}\")\n",
    "\n",
    "df_claim_with_polis['CLAIM_DT'] = pd.to_datetime(df_claim_with_polis['CLAIM_DT'], dayfirst=True)\n",
    "df_claim_with_polis['PAY_DT'] = pd.to_datetime(df_claim_with_polis['PAY_DT'], dayfirst=True)\n",
    "df_claim_with_polis['PAY_BEFORE_LOSS'] = df_claim_with_polis['PAY_DT'] < df_claim_with_polis['CLAIM_DT']\n",
    "print(f\"Количество выплат до убытков: {df_claim_with_polis['PAY_BEFORE_LOSS'].sum()}\")\n",
    "df_claim_with_polis = df_claim_with_polis[~(df_claim_with_polis['PAY_DT'] < df_claim_with_polis['CLAIM_DT'])] # удалим так как это ошибки в данных"
   ]
  },
  {
   "cell_type": "markdown",
   "metadata": {
    "id": "B5NYT0tigBkV"
   },
   "source": [
    "### 1.4 Подтянуть количество и сумму убытков к каждому полису"
   ]
  },
  {
   "cell_type": "code",
   "execution_count": 14,
   "metadata": {},
   "outputs": [
    {
     "data": {
      "text/html": [
       "<div>\n",
       "<style scoped>\n",
       "    .dataframe tbody tr th:only-of-type {\n",
       "        vertical-align: middle;\n",
       "    }\n",
       "\n",
       "    .dataframe tbody tr th {\n",
       "        vertical-align: top;\n",
       "    }\n",
       "\n",
       "    .dataframe thead th {\n",
       "        text-align: right;\n",
       "    }\n",
       "</style>\n",
       "<table border=\"1\" class=\"dataframe\">\n",
       "  <thead>\n",
       "    <tr style=\"text-align: right;\">\n",
       "      <th></th>\n",
       "      <th>CREATE_DT</th>\n",
       "      <th>POLIS_ID</th>\n",
       "      <th>START_DT</th>\n",
       "      <th>END_DT</th>\n",
       "      <th>PREMIUM</th>\n",
       "      <th>DISSOLUTION_DT</th>\n",
       "      <th>VIN</th>\n",
       "      <th>CAR_ISSUE</th>\n",
       "      <th>CAR_DIAG_DT</th>\n",
       "      <th>PERS_POLIS_OWN</th>\n",
       "      <th>...</th>\n",
       "      <th>REG_COUNTRY_FLG</th>\n",
       "      <th>START1</th>\n",
       "      <th>END1</th>\n",
       "      <th>START2</th>\n",
       "      <th>END2</th>\n",
       "      <th>START3</th>\n",
       "      <th>END3</th>\n",
       "      <th>hash_vin</th>\n",
       "      <th>LOSS_COUNT</th>\n",
       "      <th>TOTAL_PAY_AMT</th>\n",
       "    </tr>\n",
       "  </thead>\n",
       "  <tbody>\n",
       "    <tr>\n",
       "      <th>71962</th>\n",
       "      <td>2019-03-15 00:00:00</td>\n",
       "      <td>71963</td>\n",
       "      <td>2019-03-19 00:00:00</td>\n",
       "      <td>2020-03-18 00:00:00</td>\n",
       "      <td>7748.43</td>\n",
       "      <td>NaN</td>\n",
       "      <td>040bbc7e9909b6eb6c5e42567a805b8d30b9ff855c61da...</td>\n",
       "      <td>2000.0</td>\n",
       "      <td>2020-03-01 00:00:00</td>\n",
       "      <td>93C850020EAC5AE23D2FBD35E71673EFB8C47BCE1A0400...</td>\n",
       "      <td>...</td>\n",
       "      <td>1</td>\n",
       "      <td>2019-03-19 00:00:00</td>\n",
       "      <td>2020-03-18 00:00:00</td>\n",
       "      <td>NaN</td>\n",
       "      <td>NaN</td>\n",
       "      <td>NaN</td>\n",
       "      <td>NaN</td>\n",
       "      <td>040bbc7e9909b6eb6c5e42567a805b8d30b9ff855c61da...</td>\n",
       "      <td>1.0</td>\n",
       "      <td>11118.39</td>\n",
       "    </tr>\n",
       "    <tr>\n",
       "      <th>49389</th>\n",
       "      <td>2018-05-05 00:00:00</td>\n",
       "      <td>49390</td>\n",
       "      <td>2018-05-06 00:00:00</td>\n",
       "      <td>2019-05-05 00:00:00</td>\n",
       "      <td>9339.62</td>\n",
       "      <td>NaN</td>\n",
       "      <td>fe638f2558983cfe64f24f7585bcfefe8036ae76887cc7...</td>\n",
       "      <td>2006.0</td>\n",
       "      <td>2019-05-06 00:00:00</td>\n",
       "      <td>7999EA62095555361C47C47C0564EDDBD601064CC7166F...</td>\n",
       "      <td>...</td>\n",
       "      <td>1</td>\n",
       "      <td>2018-05-06 00:00:00</td>\n",
       "      <td>2019-05-05 00:00:00</td>\n",
       "      <td>NaN</td>\n",
       "      <td>NaN</td>\n",
       "      <td>NaN</td>\n",
       "      <td>NaN</td>\n",
       "      <td>fe638f2558983cfe64f24f7585bcfefe8036ae76887cc7...</td>\n",
       "      <td>1.0</td>\n",
       "      <td>400000.00</td>\n",
       "    </tr>\n",
       "    <tr>\n",
       "      <th>85473</th>\n",
       "      <td>2019-01-18 00:00:00</td>\n",
       "      <td>85474</td>\n",
       "      <td>2019-01-20 00:00:00</td>\n",
       "      <td>2020-01-19 00:00:00</td>\n",
       "      <td>3391.91</td>\n",
       "      <td>NaN</td>\n",
       "      <td>7be4c655ecb79abee6fe3cea4e46697a8df9e50315ac45...</td>\n",
       "      <td>2005.0</td>\n",
       "      <td>2020-01-19 00:00:00</td>\n",
       "      <td>1D67BF2183CF4DCA496398D197A113B220E11DB2E393A2...</td>\n",
       "      <td>...</td>\n",
       "      <td>1</td>\n",
       "      <td>2019-01-20 00:00:00</td>\n",
       "      <td>2020-01-19 00:00:00</td>\n",
       "      <td>NaN</td>\n",
       "      <td>NaN</td>\n",
       "      <td>NaN</td>\n",
       "      <td>NaN</td>\n",
       "      <td>7be4c655ecb79abee6fe3cea4e46697a8df9e50315ac45...</td>\n",
       "      <td>2.0</td>\n",
       "      <td>35019.84</td>\n",
       "    </tr>\n",
       "    <tr>\n",
       "      <th>97243</th>\n",
       "      <td>2019-03-26 00:00:00</td>\n",
       "      <td>97244</td>\n",
       "      <td>2019-04-01 00:00:00</td>\n",
       "      <td>2020-03-31 00:00:00</td>\n",
       "      <td>5914.11</td>\n",
       "      <td>NaN</td>\n",
       "      <td>59a9f388bc58cab5cba5aa492b5718d7b66c5b8b892f68...</td>\n",
       "      <td>2009.0</td>\n",
       "      <td>NaN</td>\n",
       "      <td>0D2D23976312EC0186E94F6E8953EF70DCDDE140CE5641...</td>\n",
       "      <td>...</td>\n",
       "      <td>1</td>\n",
       "      <td>2019-04-01 00:00:00</td>\n",
       "      <td>2020-03-31 00:00:00</td>\n",
       "      <td>NaN</td>\n",
       "      <td>NaN</td>\n",
       "      <td>NaN</td>\n",
       "      <td>NaN</td>\n",
       "      <td>59a9f388bc58cab5cba5aa492b5718d7b66c5b8b892f68...</td>\n",
       "      <td>1.0</td>\n",
       "      <td>18906.50</td>\n",
       "    </tr>\n",
       "    <tr>\n",
       "      <th>64383</th>\n",
       "      <td>2019-10-18 00:00:00</td>\n",
       "      <td>64384</td>\n",
       "      <td>2019-10-18 00:00:00</td>\n",
       "      <td>2020-10-17 00:00:00</td>\n",
       "      <td>7608.25</td>\n",
       "      <td>NaN</td>\n",
       "      <td>ee4be72634ba4cb089641bdbf3a72b8a576c53ffe75c3e...</td>\n",
       "      <td>2015.0</td>\n",
       "      <td>2020-09-25 00:00:00</td>\n",
       "      <td>3485E81A5DF7D2323A34B208010C82795BC01D26B21ED1...</td>\n",
       "      <td>...</td>\n",
       "      <td>1</td>\n",
       "      <td>2019-10-18 00:00:00</td>\n",
       "      <td>2020-10-17 00:00:00</td>\n",
       "      <td>NaN</td>\n",
       "      <td>NaN</td>\n",
       "      <td>NaN</td>\n",
       "      <td>NaN</td>\n",
       "      <td>ee4be72634ba4cb089641bdbf3a72b8a576c53ffe75c3e...</td>\n",
       "      <td>1.0</td>\n",
       "      <td>6300.29</td>\n",
       "    </tr>\n",
       "  </tbody>\n",
       "</table>\n",
       "<p>5 rows × 29 columns</p>\n",
       "</div>"
      ],
      "text/plain": [
       "                 CREATE_DT  POLIS_ID             START_DT  \\\n",
       "71962  2019-03-15 00:00:00     71963  2019-03-19 00:00:00   \n",
       "49389  2018-05-05 00:00:00     49390  2018-05-06 00:00:00   \n",
       "85473  2019-01-18 00:00:00     85474  2019-01-20 00:00:00   \n",
       "97243  2019-03-26 00:00:00     97244  2019-04-01 00:00:00   \n",
       "64383  2019-10-18 00:00:00     64384  2019-10-18 00:00:00   \n",
       "\n",
       "                    END_DT  PREMIUM  DISSOLUTION_DT  \\\n",
       "71962  2020-03-18 00:00:00  7748.43             NaN   \n",
       "49389  2019-05-05 00:00:00  9339.62             NaN   \n",
       "85473  2020-01-19 00:00:00  3391.91             NaN   \n",
       "97243  2020-03-31 00:00:00  5914.11             NaN   \n",
       "64383  2020-10-17 00:00:00  7608.25             NaN   \n",
       "\n",
       "                                                     VIN  CAR_ISSUE  \\\n",
       "71962  040bbc7e9909b6eb6c5e42567a805b8d30b9ff855c61da...     2000.0   \n",
       "49389  fe638f2558983cfe64f24f7585bcfefe8036ae76887cc7...     2006.0   \n",
       "85473  7be4c655ecb79abee6fe3cea4e46697a8df9e50315ac45...     2005.0   \n",
       "97243  59a9f388bc58cab5cba5aa492b5718d7b66c5b8b892f68...     2009.0   \n",
       "64383  ee4be72634ba4cb089641bdbf3a72b8a576c53ffe75c3e...     2015.0   \n",
       "\n",
       "               CAR_DIAG_DT                                     PERS_POLIS_OWN  \\\n",
       "71962  2020-03-01 00:00:00  93C850020EAC5AE23D2FBD35E71673EFB8C47BCE1A0400...   \n",
       "49389  2019-05-06 00:00:00  7999EA62095555361C47C47C0564EDDBD601064CC7166F...   \n",
       "85473  2020-01-19 00:00:00  1D67BF2183CF4DCA496398D197A113B220E11DB2E393A2...   \n",
       "97243                  NaN  0D2D23976312EC0186E94F6E8953EF70DCDDE140CE5641...   \n",
       "64383  2020-09-25 00:00:00  3485E81A5DF7D2323A34B208010C82795BC01D26B21ED1...   \n",
       "\n",
       "       ... REG_COUNTRY_FLG               START1                 END1  START2  \\\n",
       "71962  ...               1  2019-03-19 00:00:00  2020-03-18 00:00:00     NaN   \n",
       "49389  ...               1  2018-05-06 00:00:00  2019-05-05 00:00:00     NaN   \n",
       "85473  ...               1  2019-01-20 00:00:00  2020-01-19 00:00:00     NaN   \n",
       "97243  ...               1  2019-04-01 00:00:00  2020-03-31 00:00:00     NaN   \n",
       "64383  ...               1  2019-10-18 00:00:00  2020-10-17 00:00:00     NaN   \n",
       "\n",
       "       END2  START3  END3                                           hash_vin  \\\n",
       "71962   NaN     NaN   NaN  040bbc7e9909b6eb6c5e42567a805b8d30b9ff855c61da...   \n",
       "49389   NaN     NaN   NaN  fe638f2558983cfe64f24f7585bcfefe8036ae76887cc7...   \n",
       "85473   NaN     NaN   NaN  7be4c655ecb79abee6fe3cea4e46697a8df9e50315ac45...   \n",
       "97243   NaN     NaN   NaN  59a9f388bc58cab5cba5aa492b5718d7b66c5b8b892f68...   \n",
       "64383   NaN     NaN   NaN  ee4be72634ba4cb089641bdbf3a72b8a576c53ffe75c3e...   \n",
       "\n",
       "       LOSS_COUNT  TOTAL_PAY_AMT  \n",
       "71962         1.0       11118.39  \n",
       "49389         1.0      400000.00  \n",
       "85473         2.0       35019.84  \n",
       "97243         1.0       18906.50  \n",
       "64383         1.0        6300.29  \n",
       "\n",
       "[5 rows x 29 columns]"
      ]
     },
     "execution_count": 14,
     "metadata": {},
     "output_type": "execute_result"
    }
   ],
   "source": [
    "loss_counts = df_claim.groupby('POLIS_ID').size().reset_index(name='LOSS_COUNT')\n",
    "loss_sums = df_claim.groupby('POLIS_ID')['PAY_AMT'].sum().reset_index(name='TOTAL_PAY_AMT')\n",
    "losses = pd.merge(loss_counts, loss_sums, on='POLIS_ID')\n",
    "\n",
    "df_polis_with_losses = pd.merge(df_polis, losses, on='POLIS_ID', how='left')\n",
    "df_polis_with_losses[df_polis_with_losses['LOSS_COUNT'] > 0].sample(5)"
   ]
  },
  {
   "cell_type": "markdown",
   "metadata": {
    "id": "B5NYT0tigBkV"
   },
   "source": [
    "### 1.5 Притянуть к полисам и убыткам – количество водителей, возраст самого молодого, стаж водителя с самым маленьким стажем"
   ]
  },
  {
   "cell_type": "code",
   "execution_count": 17,
   "metadata": {},
   "outputs": [
    {
     "data": {
      "text/html": [
       "<div>\n",
       "<style scoped>\n",
       "    .dataframe tbody tr th:only-of-type {\n",
       "        vertical-align: middle;\n",
       "    }\n",
       "\n",
       "    .dataframe tbody tr th {\n",
       "        vertical-align: top;\n",
       "    }\n",
       "\n",
       "    .dataframe thead th {\n",
       "        text-align: right;\n",
       "    }\n",
       "</style>\n",
       "<table border=\"1\" class=\"dataframe\">\n",
       "  <thead>\n",
       "    <tr style=\"text-align: right;\">\n",
       "      <th></th>\n",
       "      <th>POLIS_ID</th>\n",
       "      <th>DRIVER_COUNT</th>\n",
       "      <th>MIN_DRIVER_AGE</th>\n",
       "      <th>MIN_DRIVER_EXP</th>\n",
       "    </tr>\n",
       "  </thead>\n",
       "  <tbody>\n",
       "    <tr>\n",
       "      <th>0</th>\n",
       "      <td>1</td>\n",
       "      <td>1</td>\n",
       "      <td>29</td>\n",
       "      <td>8.0</td>\n",
       "    </tr>\n",
       "    <tr>\n",
       "      <th>1</th>\n",
       "      <td>2</td>\n",
       "      <td>3</td>\n",
       "      <td>33</td>\n",
       "      <td>6.0</td>\n",
       "    </tr>\n",
       "    <tr>\n",
       "      <th>2</th>\n",
       "      <td>3</td>\n",
       "      <td>4</td>\n",
       "      <td>33</td>\n",
       "      <td>8.0</td>\n",
       "    </tr>\n",
       "    <tr>\n",
       "      <th>3</th>\n",
       "      <td>4</td>\n",
       "      <td>2</td>\n",
       "      <td>40</td>\n",
       "      <td>15.0</td>\n",
       "    </tr>\n",
       "    <tr>\n",
       "      <th>4</th>\n",
       "      <td>5</td>\n",
       "      <td>3</td>\n",
       "      <td>36</td>\n",
       "      <td>3.0</td>\n",
       "    </tr>\n",
       "    <tr>\n",
       "      <th>...</th>\n",
       "      <td>...</td>\n",
       "      <td>...</td>\n",
       "      <td>...</td>\n",
       "      <td>...</td>\n",
       "    </tr>\n",
       "    <tr>\n",
       "      <th>110708</th>\n",
       "      <td>117119</td>\n",
       "      <td>1</td>\n",
       "      <td>30</td>\n",
       "      <td>11.0</td>\n",
       "    </tr>\n",
       "    <tr>\n",
       "      <th>110709</th>\n",
       "      <td>117120</td>\n",
       "      <td>1</td>\n",
       "      <td>31</td>\n",
       "      <td>11.0</td>\n",
       "    </tr>\n",
       "    <tr>\n",
       "      <th>110710</th>\n",
       "      <td>117121</td>\n",
       "      <td>2</td>\n",
       "      <td>29</td>\n",
       "      <td>10.0</td>\n",
       "    </tr>\n",
       "    <tr>\n",
       "      <th>110711</th>\n",
       "      <td>117122</td>\n",
       "      <td>2</td>\n",
       "      <td>42</td>\n",
       "      <td>13.0</td>\n",
       "    </tr>\n",
       "    <tr>\n",
       "      <th>110712</th>\n",
       "      <td>117123</td>\n",
       "      <td>2</td>\n",
       "      <td>31</td>\n",
       "      <td>6.0</td>\n",
       "    </tr>\n",
       "  </tbody>\n",
       "</table>\n",
       "<p>110713 rows × 4 columns</p>\n",
       "</div>"
      ],
      "text/plain": [
       "        POLIS_ID  DRIVER_COUNT  MIN_DRIVER_AGE  MIN_DRIVER_EXP\n",
       "0              1             1              29             8.0\n",
       "1              2             3              33             6.0\n",
       "2              3             4              33             8.0\n",
       "3              4             2              40            15.0\n",
       "4              5             3              36             3.0\n",
       "...          ...           ...             ...             ...\n",
       "110708    117119             1              30            11.0\n",
       "110709    117120             1              31            11.0\n",
       "110710    117121             2              29            10.0\n",
       "110711    117122             2              42            13.0\n",
       "110712    117123             2              31             6.0\n",
       "\n",
       "[110713 rows x 4 columns]"
      ]
     },
     "execution_count": 17,
     "metadata": {},
     "output_type": "execute_result"
    }
   ],
   "source": [
    "drivers_agg = df_drivers.groupby('POLIS_ID').agg(\n",
    "    DRIVER_COUNT=('DRIVER_HASH', 'count'),\n",
    "    MIN_DRIVER_AGE=('DRIVER_AGE', 'min'),\n",
    "    MIN_DRIVER_EXP=('DRIVER_EXP', 'min'),\n",
    ").reset_index()\n",
    "\n",
    "drivers_agg"
   ]
  },
  {
   "cell_type": "code",
   "execution_count": 18,
   "metadata": {},
   "outputs": [
    {
     "data": {
      "text/html": [
       "<div>\n",
       "<style scoped>\n",
       "    .dataframe tbody tr th:only-of-type {\n",
       "        vertical-align: middle;\n",
       "    }\n",
       "\n",
       "    .dataframe tbody tr th {\n",
       "        vertical-align: top;\n",
       "    }\n",
       "\n",
       "    .dataframe thead th {\n",
       "        text-align: right;\n",
       "    }\n",
       "</style>\n",
       "<table border=\"1\" class=\"dataframe\">\n",
       "  <thead>\n",
       "    <tr style=\"text-align: right;\">\n",
       "      <th></th>\n",
       "      <th>CREATE_DT</th>\n",
       "      <th>POLIS_ID</th>\n",
       "      <th>START_DT</th>\n",
       "      <th>END_DT</th>\n",
       "      <th>PREMIUM</th>\n",
       "      <th>DISSOLUTION_DT</th>\n",
       "      <th>VIN</th>\n",
       "      <th>CAR_ISSUE</th>\n",
       "      <th>CAR_DIAG_DT</th>\n",
       "      <th>PERS_POLIS_OWN</th>\n",
       "      <th>...</th>\n",
       "      <th>START2</th>\n",
       "      <th>END2</th>\n",
       "      <th>START3</th>\n",
       "      <th>END3</th>\n",
       "      <th>hash_vin</th>\n",
       "      <th>LOSS_COUNT</th>\n",
       "      <th>TOTAL_PAY_AMT</th>\n",
       "      <th>DRIVER_COUNT</th>\n",
       "      <th>MIN_DRIVER_AGE</th>\n",
       "      <th>MIN_DRIVER_EXP</th>\n",
       "    </tr>\n",
       "  </thead>\n",
       "  <tbody>\n",
       "    <tr>\n",
       "      <th>66744</th>\n",
       "      <td>2019-07-18 00:00:00</td>\n",
       "      <td>66745</td>\n",
       "      <td>2019-07-18 00:00:00</td>\n",
       "      <td>2020-07-17 00:00:00</td>\n",
       "      <td>7447.88</td>\n",
       "      <td>NaN</td>\n",
       "      <td>790e5356d738cd47d7a8258ee4cac5ca089f437401487c...</td>\n",
       "      <td>2008.0</td>\n",
       "      <td>2020-07-18 00:00:00</td>\n",
       "      <td>2A84E0595BB87C0D2C8ED38314E7811C9720A1C14A8D82...</td>\n",
       "      <td>...</td>\n",
       "      <td>NaN</td>\n",
       "      <td>NaN</td>\n",
       "      <td>NaN</td>\n",
       "      <td>NaN</td>\n",
       "      <td>790e5356d738cd47d7a8258ee4cac5ca089f437401487c...</td>\n",
       "      <td>NaN</td>\n",
       "      <td>NaN</td>\n",
       "      <td>3.0</td>\n",
       "      <td>25.0</td>\n",
       "      <td>6.0</td>\n",
       "    </tr>\n",
       "    <tr>\n",
       "      <th>40514</th>\n",
       "      <td>2019-09-10 00:00:00</td>\n",
       "      <td>40515</td>\n",
       "      <td>2019-09-13 00:00:00</td>\n",
       "      <td>2020-09-12 00:00:00</td>\n",
       "      <td>9712.68</td>\n",
       "      <td>NaN</td>\n",
       "      <td>6bfa3594cb599dc954aa55ff545cb3dbd7240f0901c6a4...</td>\n",
       "      <td>2017.0</td>\n",
       "      <td>2019-09-13 00:00:00</td>\n",
       "      <td>C9958EB43219537B85D0AE253A2E47ACA7493AEDA3E99D...</td>\n",
       "      <td>...</td>\n",
       "      <td>NaN</td>\n",
       "      <td>NaN</td>\n",
       "      <td>NaN</td>\n",
       "      <td>NaN</td>\n",
       "      <td>6bfa3594cb599dc954aa55ff545cb3dbd7240f0901c6a4...</td>\n",
       "      <td>NaN</td>\n",
       "      <td>NaN</td>\n",
       "      <td>2.0</td>\n",
       "      <td>28.0</td>\n",
       "      <td>8.0</td>\n",
       "    </tr>\n",
       "    <tr>\n",
       "      <th>91017</th>\n",
       "      <td>2018-04-19 00:00:00</td>\n",
       "      <td>91018</td>\n",
       "      <td>2018-05-07 00:00:00</td>\n",
       "      <td>2019-05-06 00:00:00</td>\n",
       "      <td>6102.88</td>\n",
       "      <td>NaN</td>\n",
       "      <td>1623aa96e14a1df1260217f0485b1840bd9d1c0fff4eba...</td>\n",
       "      <td>2012.0</td>\n",
       "      <td>NaN</td>\n",
       "      <td>CB91D2E46C3ACE1F6C11183FA2A5E20742814731CD364A...</td>\n",
       "      <td>...</td>\n",
       "      <td>NaN</td>\n",
       "      <td>NaN</td>\n",
       "      <td>NaN</td>\n",
       "      <td>NaN</td>\n",
       "      <td>1623aa96e14a1df1260217f0485b1840bd9d1c0fff4eba...</td>\n",
       "      <td>NaN</td>\n",
       "      <td>NaN</td>\n",
       "      <td>2.0</td>\n",
       "      <td>32.0</td>\n",
       "      <td>9.0</td>\n",
       "    </tr>\n",
       "    <tr>\n",
       "      <th>50720</th>\n",
       "      <td>2018-10-30 00:00:00</td>\n",
       "      <td>50721</td>\n",
       "      <td>2018-10-31 00:00:00</td>\n",
       "      <td>2019-10-30 00:00:00</td>\n",
       "      <td>2853.77</td>\n",
       "      <td>NaN</td>\n",
       "      <td>cd34ceeac65616eb8169fd9bb581ef78c37ea74a55906b...</td>\n",
       "      <td>2006.0</td>\n",
       "      <td>2019-10-30 00:00:00</td>\n",
       "      <td>6161AB9AC3558D2FE50B5D0D49A70AF202D48D75D69CD8...</td>\n",
       "      <td>...</td>\n",
       "      <td>NaN</td>\n",
       "      <td>NaN</td>\n",
       "      <td>NaN</td>\n",
       "      <td>NaN</td>\n",
       "      <td>cd34ceeac65616eb8169fd9bb581ef78c37ea74a55906b...</td>\n",
       "      <td>NaN</td>\n",
       "      <td>NaN</td>\n",
       "      <td>2.0</td>\n",
       "      <td>27.0</td>\n",
       "      <td>8.0</td>\n",
       "    </tr>\n",
       "    <tr>\n",
       "      <th>27904</th>\n",
       "      <td>2018-08-25 00:00:00</td>\n",
       "      <td>27905</td>\n",
       "      <td>2018-08-30 00:00:00</td>\n",
       "      <td>2019-08-29 00:00:00</td>\n",
       "      <td>22401.92</td>\n",
       "      <td>NaN</td>\n",
       "      <td>ff2dd6d0a56d46c1b1197fec657ae812a9b4404df21166...</td>\n",
       "      <td>2011.0</td>\n",
       "      <td>NaN</td>\n",
       "      <td>327BE41024FFD0FF49D14DDF39ED767103C6A1A646DF61...</td>\n",
       "      <td>...</td>\n",
       "      <td>NaN</td>\n",
       "      <td>NaN</td>\n",
       "      <td>NaN</td>\n",
       "      <td>NaN</td>\n",
       "      <td>ff2dd6d0a56d46c1b1197fec657ae812a9b4404df21166...</td>\n",
       "      <td>NaN</td>\n",
       "      <td>NaN</td>\n",
       "      <td>3.0</td>\n",
       "      <td>22.0</td>\n",
       "      <td>0.0</td>\n",
       "    </tr>\n",
       "  </tbody>\n",
       "</table>\n",
       "<p>5 rows × 32 columns</p>\n",
       "</div>"
      ],
      "text/plain": [
       "                 CREATE_DT  POLIS_ID             START_DT  \\\n",
       "66744  2019-07-18 00:00:00     66745  2019-07-18 00:00:00   \n",
       "40514  2019-09-10 00:00:00     40515  2019-09-13 00:00:00   \n",
       "91017  2018-04-19 00:00:00     91018  2018-05-07 00:00:00   \n",
       "50720  2018-10-30 00:00:00     50721  2018-10-31 00:00:00   \n",
       "27904  2018-08-25 00:00:00     27905  2018-08-30 00:00:00   \n",
       "\n",
       "                    END_DT   PREMIUM  DISSOLUTION_DT  \\\n",
       "66744  2020-07-17 00:00:00   7447.88             NaN   \n",
       "40514  2020-09-12 00:00:00   9712.68             NaN   \n",
       "91017  2019-05-06 00:00:00   6102.88             NaN   \n",
       "50720  2019-10-30 00:00:00   2853.77             NaN   \n",
       "27904  2019-08-29 00:00:00  22401.92             NaN   \n",
       "\n",
       "                                                     VIN  CAR_ISSUE  \\\n",
       "66744  790e5356d738cd47d7a8258ee4cac5ca089f437401487c...     2008.0   \n",
       "40514  6bfa3594cb599dc954aa55ff545cb3dbd7240f0901c6a4...     2017.0   \n",
       "91017  1623aa96e14a1df1260217f0485b1840bd9d1c0fff4eba...     2012.0   \n",
       "50720  cd34ceeac65616eb8169fd9bb581ef78c37ea74a55906b...     2006.0   \n",
       "27904  ff2dd6d0a56d46c1b1197fec657ae812a9b4404df21166...     2011.0   \n",
       "\n",
       "               CAR_DIAG_DT                                     PERS_POLIS_OWN  \\\n",
       "66744  2020-07-18 00:00:00  2A84E0595BB87C0D2C8ED38314E7811C9720A1C14A8D82...   \n",
       "40514  2019-09-13 00:00:00  C9958EB43219537B85D0AE253A2E47ACA7493AEDA3E99D...   \n",
       "91017                  NaN  CB91D2E46C3ACE1F6C11183FA2A5E20742814731CD364A...   \n",
       "50720  2019-10-30 00:00:00  6161AB9AC3558D2FE50B5D0D49A70AF202D48D75D69CD8...   \n",
       "27904                  NaN  327BE41024FFD0FF49D14DDF39ED767103C6A1A646DF61...   \n",
       "\n",
       "       ... START2  END2  START3  END3  \\\n",
       "66744  ...    NaN   NaN     NaN   NaN   \n",
       "40514  ...    NaN   NaN     NaN   NaN   \n",
       "91017  ...    NaN   NaN     NaN   NaN   \n",
       "50720  ...    NaN   NaN     NaN   NaN   \n",
       "27904  ...    NaN   NaN     NaN   NaN   \n",
       "\n",
       "                                                hash_vin  LOSS_COUNT  \\\n",
       "66744  790e5356d738cd47d7a8258ee4cac5ca089f437401487c...         NaN   \n",
       "40514  6bfa3594cb599dc954aa55ff545cb3dbd7240f0901c6a4...         NaN   \n",
       "91017  1623aa96e14a1df1260217f0485b1840bd9d1c0fff4eba...         NaN   \n",
       "50720  cd34ceeac65616eb8169fd9bb581ef78c37ea74a55906b...         NaN   \n",
       "27904  ff2dd6d0a56d46c1b1197fec657ae812a9b4404df21166...         NaN   \n",
       "\n",
       "       TOTAL_PAY_AMT  DRIVER_COUNT  MIN_DRIVER_AGE  MIN_DRIVER_EXP  \n",
       "66744            NaN           3.0            25.0             6.0  \n",
       "40514            NaN           2.0            28.0             8.0  \n",
       "91017            NaN           2.0            32.0             9.0  \n",
       "50720            NaN           2.0            27.0             8.0  \n",
       "27904            NaN           3.0            22.0             0.0  \n",
       "\n",
       "[5 rows x 32 columns]"
      ]
     },
     "execution_count": 18,
     "metadata": {},
     "output_type": "execute_result"
    }
   ],
   "source": [
    "df_polis_with_losses_and_drivers = pd.merge(df_polis_with_losses, drivers_agg, on='POLIS_ID', how='left')\n",
    "df_polis_with_losses_and_drivers.sample(5)"
   ]
  },
  {
   "cell_type": "markdown",
   "metadata": {},
   "source": [
    "В результате выполнения двух предыдущих пунктов для каждого полиса мы получили следующие дополнительные данные: ```LOSS_COUNT, TOTAL_PAY_AMT, DRIVER_COUNT, MIN_DRIVER_AGE, MIN_DRIVER_EXP```. В случае если по полису не было убытков (и выплат), то выводится NaN."
   ]
  },
  {
   "cell_type": "code",
   "execution_count": 96,
   "metadata": {},
   "outputs": [],
   "source": [
    "df_polis_with_losses_and_drivers[~df_polis_with_losses_and_drivers['POLIS_ID'].isin(wrong_pids)].to_csv('/workspaces/BDAktuarki/data/df_with_target.csv')"
   ]
  },
  {
   "cell_type": "markdown",
   "metadata": {
    "id": "PzcM2P0cgBkX"
   },
   "source": [
    "### 1.6 Провести проверки данных.\n",
    "Это творческое задание. Примеры проверок – дата начала полиса больше даты окончания полиса, дата убытка между датой начала и окончания полиса и т.д."
   ]
  },
  {
   "cell_type": "code",
   "execution_count": 41,
   "metadata": {
    "colab": {
     "base_uri": "https://localhost:8080/"
    },
    "id": "pvdWx8zfgBkX",
    "outputId": "b0c01369-449a-4782-c9f5-a883a1c30084"
   },
   "outputs": [
    {
     "name": "stdout",
     "output_type": "stream",
     "text": [
      "CREATE_DT\n",
      "START_DT\n",
      "END_DT\n",
      "DTP_DT\n",
      "CLAIM_DT\n",
      "PAY_DT\n"
     ]
    }
   ],
   "source": [
    "# Первичное преобразование типов для непустых признаков дат\n",
    "for col in df_polis.columns:\n",
    "    if ('_DT' in col) and (df_polis[col].isna().sum() == 0):\n",
    "        print(col)\n",
    "        df_polis[col] = pd.to_datetime(df_polis[col])\n",
    "\n",
    "for col in df_claim.columns:\n",
    "    if ('_DT' in col) and (df_claim[col].isna().sum() == 0):\n",
    "        print(col)\n",
    "        df_claim[col] = pd.to_datetime(df_claim[col], dayfirst=True)"
   ]
  },
  {
   "cell_type": "code",
   "execution_count": 42,
   "metadata": {
    "colab": {
     "base_uri": "https://localhost:8080/"
    },
    "id": "HbLV7-8hgBkY",
    "outputId": "844a89be-9203-4d5d-eba9-0490dfb37741"
   },
   "outputs": [
    {
     "name": "stdout",
     "output_type": "stream",
     "text": [
      "<class 'pandas.core.frame.DataFrame'>\n",
      "RangeIndex: 118574 entries, 0 to 118573\n",
      "Data columns (total 37 columns):\n",
      " #   Column           Non-Null Count   Dtype         \n",
      "---  ------           --------------   -----         \n",
      " 0   POLIS_ID         118574 non-null  int64         \n",
      " 1   CREATE_DT        118574 non-null  datetime64[ns]\n",
      " 2   START_DT         118574 non-null  datetime64[ns]\n",
      " 3   END_DT           118574 non-null  datetime64[ns]\n",
      " 4   PREMIUM          118573 non-null  float64       \n",
      " 5   DISSOLUTION_DT   0 non-null       float64       \n",
      " 6   VIN              108264 non-null  object        \n",
      " 7   CAR_ISSUE        118176 non-null  float64       \n",
      " 8   CAR_DIAG_DT      78205 non-null   object        \n",
      " 9   PERS_POLIS_OWN   118501 non-null  object        \n",
      " 10  PERS_CAR_OWN     118574 non-null  object        \n",
      " 11  KLADR_CODE       118164 non-null  float64       \n",
      " 12  MULTIDRIVE_FLG   118574 non-null  int64         \n",
      " 13  BONUS_MALUS      118556 non-null  float64       \n",
      " 14  CAR_ENG_PWR      118157 non-null  float64       \n",
      " 15  TRAILER_FLG      118574 non-null  int64         \n",
      " 16  CAR_WEIGHT       813 non-null     float64       \n",
      " 17  CAR_SEATS_CNT    518 non-null     float64       \n",
      " 18  USE_PURPOSE_FLG  118574 non-null  int64         \n",
      " 19  REG_COUNTRY_FLG  118574 non-null  int64         \n",
      " 20  START1           118061 non-null  object        \n",
      " 21  END1             118066 non-null  object        \n",
      " 22  START2           72 non-null      object        \n",
      " 23  END2             72 non-null      object        \n",
      " 24  START3           6 non-null       object        \n",
      " 25  END3             6 non-null       object        \n",
      " 26  hash_vin         108264 non-null  object        \n",
      " 27  LOSS_ID          6189 non-null    float64       \n",
      " 28  DTP_DT           6189 non-null    datetime64[ns]\n",
      " 29  CLAIM_DT         6189 non-null    datetime64[ns]\n",
      " 30  PAY_ID           6189 non-null    float64       \n",
      " 31  PAY_AMT          6189 non-null    float64       \n",
      " 32  PAY_DT           6189 non-null    datetime64[ns]\n",
      " 33  DAMAGE_TYPE      6189 non-null    float64       \n",
      " 34  IS_ALCHO_DMG     6189 non-null    float64       \n",
      " 35  IS_DISAPPEAR     6189 non-null    float64       \n",
      " 36  EURO_PROTOCOL    6189 non-null    float64       \n",
      "dtypes: datetime64[ns](6), float64(15), int64(5), object(11)\n",
      "memory usage: 33.5+ MB\n"
     ]
    }
   ],
   "source": [
    "df_polis_to_j = df_polis.set_index('POLIS_ID').copy()\n",
    "df_claim_to_j = df_claim.set_index('POLIS_ID').copy()\n",
    "df_j_pls_clm = df_polis_to_j.join(df_claim_to_j, how='left').reset_index()\n",
    "df_j_pls_clm.info()"
   ]
  },
  {
   "cell_type": "code",
   "execution_count": 63,
   "metadata": {
    "colab": {
     "base_uri": "https://localhost:8080/"
    },
    "id": "t8TbGNyLgBkY",
    "outputId": "3bdfceba-7973-4004-b3a2-179662b13900"
   },
   "outputs": [
    {
     "name": "stdout",
     "output_type": "stream",
     "text": [
      "Процент наблюдений среди случаев с ДТП в которых дата ДТП между датой начала и окончания 100.0\n"
     ]
    }
   ],
   "source": [
    "# Дата начала полиса больше даты окончания полиса\n",
    "mask = df_polis['START_DT'] > df_polis['END_DT']\n",
    "assert len(df_polis[mask]) == 0\n",
    "\n",
    "# Дата убытка между датой начала и окончания полиса\n",
    "mask_on_pay = ~df_j_pls_clm['PAY_ID'].isna()\n",
    "mask_on_date_lb = df_j_pls_clm['DTP_DT'] >= df_j_pls_clm['START_DT']\n",
    "mask_on_date_lb = df_j_pls_clm['DTP_DT'] <= df_j_pls_clm['END_DT']\n",
    "print('Процент наблюдений среди случаев с ДТП в которых дата ДТП между датой начала и окончания', end=' ')\n",
    "print(len(df_j_pls_clm[mask_on_pay & mask_on_date_lb & mask_on_date_lb]) / len(df_j_pls_clm[mask_on_pay]) * 100)"
   ]
  },
  {
   "cell_type": "markdown",
   "metadata": {},
   "source": [
    "Т.е. все верно, ошибок согласно критериям ниже в данных нет:\n",
    "1. Дата начала полиса раньше его окончания\n",
    "2. Дата ДТП строго меду датой начала и конца действия полиса"
   ]
  },
  {
   "cell_type": "code",
   "execution_count": 64,
   "metadata": {
    "colab": {
     "base_uri": "https://localhost:8080/"
    },
    "id": "B0OcJZRxgBkZ",
    "outputId": "c6354771-9f1e-4871-a0e4-aa10e5904f89"
   },
   "outputs": [
    {
     "name": "stdout",
     "output_type": "stream",
     "text": [
      "Кол-во наблюдений в каждом численном признаке равных 0\n",
      "polis_reestr: ('PREMIUM', 75) ('BONUS_MALUS', 0) ('CAR_ENG_PWR', 1) ('CAR_WEIGHT', 303) ('CAR_SEATS_CNT', 331)\n",
      "drivers_reestr: ('DRIVER_AGE', 0) ('DRIVER_EXP', 1131) ('BONUS_MALUS', 0)\n",
      "claim_reestr: ('PAY_AMT', 1)\n",
      "\n",
      "Кол-во наблюдений в каждом численном признаке со значением меньше 0\n",
      "polis_reestr: ('PREMIUM', 1) ('BONUS_MALUS', 0) ('CAR_ENG_PWR', 0) ('CAR_WEIGHT', 0) ('CAR_SEATS_CNT', 0)\n",
      "drivers_reestr: ('DRIVER_AGE', 0) ('DRIVER_EXP', 2) ('BONUS_MALUS', 0)\n",
      "claim_reestr: ('PAY_AMT', 0)\n"
     ]
    }
   ],
   "source": [
    "# Проверка численных признаков на положительную определенность\n",
    "num_feats_polis = ['PREMIUM', 'BONUS_MALUS', 'CAR_ENG_PWR', 'CAR_WEIGHT', 'CAR_SEATS_CNT']\n",
    "num_feats_drivers = ['DRIVER_AGE', 'DRIVER_EXP', 'BONUS_MALUS']\n",
    "num_feats_claim = ['PAY_AMT']\n",
    "num_feats_all = [num_feats_polis, num_feats_drivers, num_feats_claim]\n",
    "all_dfs = {'polis_reestr': df_polis,\n",
    "           'drivers_reestr': df_drivers,\n",
    "           'claim_reestr': df_claim}\n",
    "\n",
    "print('Кол-во наблюдений в каждом численном признаке равных 0')\n",
    "for feat_list, df_key in zip(num_feats_all, all_dfs.keys()):\n",
    "    df = all_dfs[df_key].copy()\n",
    "    lens_wrong = [len(df[df[feat] == 0]) for feat in feat_list]\n",
    "    print(df_key, end=': ')\n",
    "    print(*zip(feat_list, lens_wrong))\n",
    "print()\n",
    "print('Кол-во наблюдений в каждом численном признаке со значением меньше 0')\n",
    "for feat_list, df_key in zip(num_feats_all, all_dfs.keys()):\n",
    "    df = all_dfs[df_key].copy()\n",
    "    lens_wrong = [len(df[df[feat] < 0]) for feat in feat_list]\n",
    "    print(df_key, end=': ')\n",
    "    print(*zip(feat_list, lens_wrong))\n"
   ]
  },
  {
   "cell_type": "markdown",
   "metadata": {},
   "source": [
    "Ошибочными можно посчитать наличие в данных наблюдений с 0 премией и 0 значением кол-ва сидений и массы машины, запомним эти полисы и позднее удалим их так как они занимают < 0.1% в данных, по той же причине избавимся и от наблюдений в которых численные признакие принимают знач-ия меньше 0"
   ]
  },
  {
   "cell_type": "code",
   "execution_count": 77,
   "metadata": {},
   "outputs": [],
   "source": [
    "wrong_pids = df_polis[(df_polis['CAR_WEIGHT'] == 0) | \n",
    "                      (df_polis['CAR_SEATS_CNT'] == 0) | \n",
    "                      (df_polis['PREMIUM'] <= 0)]['POLIS_ID'].to_list()\n",
    "\n",
    "wrong_pids.extend(df_drivers[df_drivers['DRIVER_EXP'] < 0]['POLIS_ID'].to_list())\n",
    "wrong_pids = list(set(wrong_pids))\n"
   ]
  },
  {
   "cell_type": "markdown",
   "metadata": {
    "id": "fHbZxM_QgBka"
   },
   "source": [
    "### 1.7 Построить распределения количества убытков и размера убытка\n",
    "Посмотреть средние, минимальные и максимальные значения, перцентили."
   ]
  },
  {
   "cell_type": "code",
   "execution_count": 51,
   "metadata": {
    "colab": {
     "base_uri": "https://localhost:8080/",
     "height": 607
    },
    "id": "ZG-U0QYOqN65",
    "outputId": "c00acc68-c770-441c-e669-857d310b9c5f"
   },
   "outputs": [
    {
     "data": {
      "image/png": "[encoded data removed]",
      "text/plain": [
       "<Figure size 800x600 with 2 Axes>"
      ]
     },
     "metadata": {},
     "output_type": "display_data"
    }
   ],
   "source": [
    "claims_count = df_claim['POLIS_ID'].value_counts()\n",
    "fig, ax = plt.subplots(2, 1, figsize=(8, 6))\n",
    "\n",
    "sns.histplot(claims_count, bins=20, ax=ax[0], kde=True)\n",
    "ax[0].set_title('Распределение количества убытков')\n",
    "ax[0].set_xlabel('Количество выплат')\n",
    "ax[0].set_ylabel('Частота')\n",
    "\n",
    "sns.histplot(df_claim['PAY_AMT'], bins=20, ax=ax[1], kde=True)\n",
    "ax[1].set_title('Распределение размера убытков')\n",
    "ax[1].set_xlabel('Размер выплаты')\n",
    "ax[1].set_ylabel('Частота')\n",
    "\n",
    "plt.tight_layout()\n",
    "plt.show()"
   ]
  },
  {
   "cell_type": "code",
   "execution_count": 57,
   "metadata": {
    "colab": {
     "base_uri": "https://localhost:8080/"
    },
    "id": "kgE0UTGHsxrF",
    "outputId": "62abe882-b176-4f5b-f3df-839fb9cb6b24"
   },
   "outputs": [
    {
     "name": "stdout",
     "output_type": "stream",
     "text": [
      "Среднее количество убытков: 1.3062473617560153\n",
      "Минимальное количество убытков: 1\n",
      "Максимальное количество убытков: 20\n",
      "Перцентили: \n",
      "0.25    1.0\n",
      "0.50    1.0\n",
      "0.75    1.0\n",
      "Name: POLIS_ID, dtype: float64\n"
     ]
    }
   ],
   "source": [
    "claims_count_stats = {\n",
    "    'mean': claims_count.mean(),\n",
    "    'min': claims_count.min(),\n",
    "    'max': claims_count.max(),\n",
    "    'percentiles': claims_count.quantile([0.25, 0.5, 0.75])\n",
    "}\n",
    "\n",
    "print(\n",
    "    f\"Среднее количество убытков: {claims_count_stats['mean']}\",\n",
    "    f\"Минимальное количество убытков: {claims_count_stats['min']}\",\n",
    "    f\"Максимальное количество убытков: {claims_count_stats['max']}\",\n",
    "    f\"Перцентили: \\n{claims_count_stats['percentiles']}\",\n",
    "    sep=\"\\n\"\n",
    ")"
   ]
  },
  {
   "cell_type": "code",
   "execution_count": 58,
   "metadata": {
    "colab": {
     "base_uri": "https://localhost:8080/"
    },
    "id": "_x--KlzEsanX",
    "outputId": "daedd61d-964c-43a1-da40-18783b8e1bf3"
   },
   "outputs": [
    {
     "name": "stdout",
     "output_type": "stream",
     "text": [
      "Среднее количество убытков: 56568.58933753433\n",
      "Минимальное количество убытков: 0.0\n",
      "Максимальное количество убытков: 739326.33\n",
      "Перцентили: \n",
      "0.25    12782.04\n",
      "0.50    28641.04\n",
      "0.75    64658.18\n",
      "Name: PAY_AMT, dtype: float64\n"
     ]
    }
   ],
   "source": [
    "pay_amount_stats = {\n",
    "    'mean': df_claim['PAY_AMT'].mean(),\n",
    "    'min': df_claim['PAY_AMT'].min(),\n",
    "    'max': df_claim['PAY_AMT'].max(),\n",
    "    'percentiles': df_claim['PAY_AMT'].quantile([0.25, 0.5, 0.75])\n",
    "}\n",
    "\n",
    "print(\n",
    "    f\"Среднее количество убытков: {pay_amount_stats['mean']}\",\n",
    "    f\"Минимальное количество убытков: {pay_amount_stats['min']}\",\n",
    "    f\"Максимальное количество убытков: {pay_amount_stats['max']}\",\n",
    "    f\"Перцентили: \\n{pay_amount_stats['percentiles']}\",\n",
    "    sep=\"\\n\"\n",
    ")"
   ]
  },
  {
   "cell_type": "markdown",
   "metadata": {},
   "source": [
    "### 1.8 Рассчитать экспозицию и заработанную премию для календарного анализа"
   ]
  },
  {
   "cell_type": "code",
   "execution_count": null,
   "metadata": {},
   "outputs": [],
   "source": []
  },
  {
   "cell_type": "markdown",
   "metadata": {},
   "source": [
    "### 1.9 Отдельно для календарного и андеррайтингово подходов (для убытков - тяжесть и полисов - частота) посмотреть по каждому фактору)"
   ]
  },
  {
   "cell_type": "code",
   "execution_count": null,
   "metadata": {},
   "outputs": [],
   "source": []
  },
  {
   "cell_type": "markdown",
   "metadata": {},
   "source": [
    "### 1.9.1 заполненность факторов, построить распределения значений фактора (для каждого фактора) в портфеле (по таблице с полисами)"
   ]
  },
  {
   "cell_type": "code",
   "execution_count": null,
   "metadata": {},
   "outputs": [],
   "source": []
  },
  {
   "cell_type": "markdown",
   "metadata": {},
   "source": [
    "### 1.9.2 построить графики количества убытков/тяжести убытков в зависимости от значений фактора, для каждого уровня фактора оценить дисперсию количества и тяжести;"
   ]
  },
  {
   "cell_type": "code",
   "execution_count": null,
   "metadata": {},
   "outputs": [],
   "source": []
  },
  {
   "cell_type": "markdown",
   "metadata": {},
   "source": [
    "### 1.9.3 проанализировать устойчивость одномерных распределений по годам (убытка, заключения полиса)"
   ]
  },
  {
   "cell_type": "code",
   "execution_count": null,
   "metadata": {},
   "outputs": [],
   "source": []
  },
  {
   "cell_type": "markdown",
   "metadata": {},
   "source": [
    "# 2. Первые модели\n",
    "1. Предобработать каждуую фичу согласно способам обработки \n",
    "2. Заполнить пропуски в фичах исходя из способов заполнения \n",
    "3.\tПостроить ОЛМ модели тяжести и частоты. Факторы включить как бинарные.\n",
    "Построить диагностические графики в разрезе факторов. \n",
    "4.\tДобавить факт и предикт на индивидуальные графики:\n",
    "5.\tПроверить значимость факторов статистиками (F-тест, Хи-квадрат).\n",
    "6.\tПостроить графы остатков.\n",
    "7.\tСгладить возраст и построить улучшенную модель.\n",
    "8.\tПостроить ROC-AUC, посмотреть другие метрики точности\n",
    "9.\tСделать кодирование фактора регион (слайд 63 лекций).\n",
    "10.\tПостроить ОЛМ модели с закодированным регионом.\n"
   ]
  },
  {
   "cell_type": "markdown",
   "metadata": {},
   "source": [
    "| Имя             | Описание признаков                   | Способ обработки     | Способ заполнения Nan                 |\n",
    "| --------------- | ------------------------------------ | -------------------- | ------------------------------------- |\n",
    "| CREATE_DT       | Дата заключения                      | drop                 | -                                     |\n",
    "| POLIS_ID        | ID полиса                            | drop                 | -                                     |\n",
    "| START_DT        | Дата начала действия                 | drop                 | -                                     |\n",
    "| END_DT          | Дата окончания действия              | diff START_DT (дни)  | -                                     |\n",
    "| PREMIUM         | Премия полиса                        | -                    | 0                                     |\n",
    "| DISSOLUTION_DT  | Дата досрочного расторжения          | drop (много пустых)  | -                                     |\n",
    "| VIN             | VIN ТС                               | drop                 | -                                     |\n",
    "| CAR_ISSUE       | Год выпуска ТС                       | diff START_DT (годы) | int(median)                           |\n",
    "| CAR_DIAG_DT     | Дата последней диагностики ТС        | diff START_DT (дни)  | заполн. -1e9 т.к. nan может нести инф |\n",
    "| PERS_POLIS_OWN  | ХЭШ страхователя                     | drop                 | -                                     |\n",
    "| PERS_CAR_OWN    | ХЭШ собственника ТС                  | drop                 | -                                     |\n",
    "| KLADR_CODE      | КОД КЛАДР (Классификатор адресов РФ) | drop ????            | -                                     |\n",
    "| MULTIDRIVE_FLG  | Наличие ограничения на ЛДУ           | -                    | -                                     |\n",
    "| BONUS_MALUS     | коэф-ент бонус малус                 | -                    | median                                |\n",
    "| CAR_ENG_PWR     | Мощность ТС                          | -                    | median                                |\n",
    "| TRAILER_FLG     | Наличие прицепа ТС                   | -                    | -                                     |\n",
    "| CAR_WEIGHT      | Вес ТС                               | drop(много нанов)    | -                                     |\n",
    "| CAR_SEATS_CNT   | Кол-во мест в ТС                     | drop(много нанов)    | -                                     |\n",
    "| USE_PURPOSE_FLG | Цель использования                   | oh_encoding          | -                                     |\n",
    "| REG_COUNTRY_FLG | Страна регистрации                   | oh_encoding          | -                                     |\n",
    "| START1          | Период1 начало                       | diff START_DT (дни)  | median                                |\n",
    "| END1            | Период1 конец                        | diff START1 (дни)    | median                                |\n",
    "| START2          | Период2 начало                       | drop                 | -                                     |\n",
    "| END2            | Период2 конец                        | drop                 | -                                     |\n",
    "| START3          | Период3 начало                       | drop                 | -                                     |\n",
    "| END3            | Период3 конец                        | drop                 | -                                     |\n",
    "| DRIVER_COUNT    | Кол-во водителей в полисе            | -                    | median                                |\n",
    "| MIN_DRIVER_AGE  | MIN Возраст водителя                 | -                    | median                                |\n",
    "| MIN_DRIVER_EXP  | MIN Опыт водителя                    | -                    | median                                |"
   ]
  },
  {
   "cell_type": "markdown",
   "metadata": {},
   "source": [
    "### Предобработка признаков"
   ]
  },
  {
   "cell_type": "markdown",
   "metadata": {},
   "source": [
    "#### Трансформация признаков"
   ]
  },
  {
   "cell_type": "code",
   "execution_count": 53,
   "metadata": {},
   "outputs": [],
   "source": [
    "from sklearn.preprocessing import OneHotEncoder\n",
    "from sklearn.compose import make_column_transformer\n",
    "import re\n",
    "\n",
    "oh_enc = OneHotEncoder(drop='first')\n",
    "df_to_transform = pd.read_csv('/workspaces/BDAktuarki/data/df_with_target.csv').drop('Unnamed: 0', axis=1)\n",
    "\n",
    "cols_to_drop = ['CREATE_DT', 'POLIS_ID', 'DISSOLUTION_DT', \n",
    "                'VIN', 'PERS_POLIS_OWN', 'PERS_CAR_OWN',\n",
    "                'CAR_WEIGHT', 'CAR_SEATS_CNT', 'START2', 'END2',\n",
    "                'START3', 'END3', 'KLADR_CODE', 'hash_vin']\n",
    "cols_to_enc = ['USE_PURPOSE_FLG', 'REG_COUNTRY_FLG']\n",
    "\n",
    "df_to_transform.drop(cols_to_drop, axis=1, inplace=True)\n",
    "\n",
    "# One_hot кодирование\n",
    "transformer = make_column_transformer(\n",
    "    (oh_enc, cols_to_enc),\n",
    "    remainder='passthrough')\n",
    "transformed = transformer.fit_transform(df_to_transform)\n",
    "\n",
    "regex = re.compile(r'remainder__')\n",
    "filtered = [i.replace('remainder__', '') if regex.match(i) else i.replace('onehotencoder__', '') for i in transformer.get_feature_names_out()]\n",
    "\n",
    "transformed_df = pd.DataFrame(\n",
    "    transformed, \n",
    "    columns=filtered\n",
    ")\n",
    "\n",
    "# Генерация фичей из дат\n",
    "cols_to_dt = ['START_DT', 'END_DT', 'START1', 'END1', 'CAR_DIAG_DT']\n",
    "for col in cols_to_dt:\n",
    "    transformed_df[col] = pd.to_datetime(transformed_df[col], errors='coerce')\n",
    "\n",
    "transformed_df['polis_length'] = (transformed_df['END_DT'] - transformed_df['START_DT']) / np.timedelta64(1, 'D')\n",
    "transformed_df['carr_issue_diff'] = transformed_df['START_DT'].dt.year - transformed_df['CAR_ISSUE']\n",
    "transformed_df['start1_diff'] = (transformed_df['START1'] - transformed_df['START_DT']) / np.timedelta64(1, 'D')\n",
    "transformed_df['end1_diff'] = (transformed_df['END1'] - transformed_df['START1']) / np.timedelta64(1, 'D')\n",
    "transformed_df['car_diag_diff'] = (transformed_df['CAR_DIAG_DT'] - transformed_df['START_DT']) / np.timedelta64(1, 'D')\n",
    "\n",
    "transformed_df.drop(cols_to_dt, axis=1, inplace=True)\n",
    "\n",
    "# Заполнение пропусков \n",
    "cols_to_fill_MED = ['carr_issue_diff', 'BONUS_MALUS', 'CAR_ENG_PWR',\n",
    "                    'start1_diff', 'end1_diff', 'DRIVER_COUNT',\n",
    "                    'MIN_DRIVER_AGE', 'MIN_DRIVER_EXP']\n",
    "\n",
    "transformed_df[cols_to_fill_MED] = transformed_df[cols_to_fill_MED].fillna(transformed_df[cols_to_fill_MED].median())\n",
    "transformed_df['PREMIUM'] = transformed_df['PREMIUM'].fillna(0)\n",
    "transformed_df['car_diag_diff'] = transformed_df['car_diag_diff'].fillna(-1e9)\n",
    "\n",
    "transformed_df.to_csv('/workspaces/BDAktuarki/data/transformed.csv')"
   ]
  },
  {
   "cell_type": "markdown",
   "metadata": {},
   "source": [
    "### Разбивка на train valid test "
   ]
  },
  {
   "cell_type": "code",
   "execution_count": 56,
   "metadata": {},
   "outputs": [],
   "source": [
    "# from sklearn.model_selection import train_test_split\n",
    "\n",
    "# df_to_split = pd.read_csv('/workspaces/BDAktuarki/data/transformed.csv').drop('Unnamed: 0', axis=1)\n",
    "# df_train, df_oot = train_test_split(df_to_split, test_size=.25, shuffle=False)\n",
    "# df_train, df_oos = train_test_split(df_train, test_size=.25, random_state=11)\n",
    "\n",
    "# df_train['sample'] = 'TRAIN'\n",
    "# df_oos['sample'] = 'VALID'\n",
    "# df_oot['sample'] = 'TEST'\n",
    "\n",
    "# pd.concat((df_train, df_oos, df_oot)).to_csv('final_df.csv')"
   ]
  },
  {
   "cell_type": "markdown",
   "metadata": {},
   "source": []
  },
  {
   "cell_type": "markdown",
   "metadata": {},
   "source": [
    "### 2.1 (частично) Построить ОЛМ модели тяжести и частоты"
   ]
  },
  {
   "cell_type": "code",
   "execution_count": 151,
   "metadata": {},
   "outputs": [
    {
     "name": "stderr",
     "output_type": "stream",
     "text": [
      "/tmp/ipykernel_4512/1738712549.py:1: DtypeWarning: Columns (24,25,26,27) have mixed types. Specify dtype option on import or set low_memory=False.\n",
      "  df = pd.read_csv('final_df.csv').drop(['Unnamed: 0', 'Unnamed: 0.1'], axis=1)\n"
     ]
    }
   ],
   "source": [
    "df = pd.read_csv('final_df.csv').drop(['Unnamed: 0', 'Unnamed: 0.1'], axis=1)\n",
    "df[['LOSS_COUNT', 'TOTAL_PAY_AMT']] = df[['LOSS_COUNT', 'TOTAL_PAY_AMT']].fillna(0)\n",
    "df_wo_targ = df.drop(['LOSS_COUNT', 'TOTAL_PAY_AMT'], axis=1)\n",
    "train = df_wo_targ['sample'] == 'TRAIN'\n",
    "valid = df_wo_targ['sample'] == 'VALID'\n",
    "test = df_wo_targ['sample'] == 'TEST'\n",
    "\n",
    "X_train, X_valid, X_test = df_wo_targ[train], df_wo_targ[valid], df_wo_targ[test]\n",
    "loss_cnt_train, loss_cnt_valid, loss_cnt_test = df[train]['LOSS_COUNT'], df[valid]['LOSS_COUNT'], df[test]['LOSS_COUNT']\n",
    "tot_pay_train, tot_pay_valid, tot_pay_test = df[train]['TOTAL_PAY_AMT'], df[valid]['TOTAL_PAY_AMT'], df[test]['TOTAL_PAY_AMT']"
   ]
  },
  {
   "cell_type": "code",
   "execution_count": 152,
   "metadata": {},
   "outputs": [
    {
     "name": "stdout",
     "output_type": "stream",
     "text": [
      "Кол-во уникальных значений в частотности ДТП на полис: 18\n",
      "Кол-во уникальных значений в сумме выплат на полис: 4669\n"
     ]
    }
   ],
   "source": [
    "print(f'Кол-во уникальных значений в частотности ДТП на полис: {len(df[\"LOSS_COUNT\"].unique())}')\n",
    "print(f'Кол-во уникальных значений в сумме выплат на полис: {len(df[\"TOTAL_PAY_AMT\"].unique())}')"
   ]
  },
  {
   "cell_type": "markdown",
   "metadata": {},
   "source": []
  },
  {
   "cell_type": "code",
   "execution_count": null,
   "metadata": {},
   "outputs": [],
   "source": []
  },
  {
   "cell_type": "markdown",
   "metadata": {},
   "source": [
    "На основнании того что множество значений частотности ДТП на полис принимает всего 18 значений в качестве априорного распределения ошибок для GLM возьмем Пуассоновское распределение "
   ]
  },
  {
   "cell_type": "code",
   "execution_count": 126,
   "metadata": {},
   "outputs": [],
   "source": [
    "# !pip install statsmodels"
   ]
  },
  {
   "cell_type": "code",
   "execution_count": 154,
   "metadata": {},
   "outputs": [],
   "source": [
    "# import statsmodels.api as sm\n",
    "# X_train = X_train.drop(['CREATE_DT', 'POLIS_ID', 'START_DT', 'END_DT', 'DISSOLUTION_DT',\n",
    "#               'VIN', 'PERS_POLIS_OWN', 'CAR_DIAG_DT', 'PERS_CAR_OWN',\n",
    "#               'START1', 'END1', 'START2', 'END2', 'START3', 'END3', 'hash_vin',\n",
    "#               'sample'], axis=1).fillna(0)\n",
    "\n",
    "# poison_model = sm.GLM(loss_cnt_train, sm.add_constant(X_train),\n",
    "#                       family=sm.families.Poisson())\n",
    "# res = poison_model.fit()\n",
    "# print(res.summary())\n"
   ]
  },
  {
   "cell_type": "markdown",
   "metadata": {},
   "source": [
    "### 2.5\tСгладить возраст и построить улучшенную модель."
   ]
  },
  {
   "cell_type": "code",
   "execution_count": 2,
   "metadata": {},
   "outputs": [
    {
     "name": "stderr",
     "output_type": "stream",
     "text": [
      "/tmp/ipykernel_7586/3477818880.py:1: DtypeWarning: Columns (23,24,25,26) have mixed types. Specify dtype option on import or set low_memory=False.\n",
      "  df = pd.read_csv('final_df.csv')\n"
     ]
    },
    {
     "data": {
      "text/plain": [
       "0         50.0\n",
       "1         31.0\n",
       "2         23.0\n",
       "3         31.0\n",
       "4         55.0\n",
       "          ... \n",
       "117118     NaN\n",
       "117119    30.0\n",
       "117120    55.0\n",
       "117121    41.0\n",
       "117122    29.0\n",
       "Name: MIN_DRIVER_AGE, Length: 117123, dtype: float64"
      ]
     },
     "execution_count": 2,
     "metadata": {},
     "output_type": "execute_result"
    }
   ],
   "source": [
    "df = pd.read_csv('final_df.csv')\n",
    "df['MIN_DRIVER_AGE']"
   ]
  },
  {
   "cell_type": "code",
   "execution_count": 4,
   "metadata": {},
   "outputs": [
    {
     "data": {
      "text/plain": [
       "<Axes: >"
      ]
     },
     "execution_count": 4,
     "metadata": {},
     "output_type": "execute_result"
    },
    {
     "data": {
      "image/png": "[encoded data removed]",
      "text/plain": [
       "<Figure size 640x480 with 1 Axes>"
      ]
     },
     "metadata": {},
     "output_type": "display_data"
    }
   ],
   "source": [
    "df['MIN_DRIVER_AGE']"
   ]
  }
 ],
 "metadata": {
  "colab": {
   "provenance": []
  },
  "kernelspec": {
   "display_name": "Python 3 (ipykernel)",
   "language": "python",
   "name": "python3"
  },
  "language_info": {
   "codemirror_mode": {
    "name": "ipython",
    "version": 3
   },
   "file_extension": ".py",
   "mimetype": "text/x-python",
   "name": "python",
   "nbconvert_exporter": "python",
   "pygments_lexer": "ipython3",
   "version": "3.10.13"
  }
 },
 "nbformat": 4,
 "nbformat_minor": 4
}
